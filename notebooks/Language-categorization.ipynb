{
 "cells": [
  {
   "cell_type": "markdown",
   "metadata": {},
   "source": [
    "## Tweet Language categorization"
   ]
  },
  {
   "cell_type": "markdown",
   "metadata": {},
   "source": [
    "Loading tweet texts from json:"
   ]
  },
  {
   "cell_type": "code",
   "execution_count": 6,
   "metadata": {},
   "outputs": [],
   "source": [
    "import json\n",
    "with open(\"./data/tweet.json\") as f:\n",
    "    tweets = json.load(f)\n",
    "tw_texts = [tw['text'] for tw in tweets]"
   ]
  },
  {
   "cell_type": "code",
   "execution_count": 9,
   "metadata": {},
   "outputs": [],
   "source": [
    "import spacy\n",
    "from spacy_langdetect import LanguageDetector\n",
    "\n",
    "nlp = spacy.load('en_core_web_sm')\n",
    "nlp.add_pipe(LanguageDetector(), name='language_detector', last=True)\n",
    "\n",
    "docs = list(nlp.pipe(tw_texts))\n",
    "\n",
    "# sentence level language detection\n",
    "en_count=0\n",
    "other_count=0\n",
    "for doc in docs:\n",
    "    lang = doc._.language\n",
    "    if(lang['language']=='en'):\n",
    "        en_count+=1\n",
    "    else:\n",
    "        other_count+=1\n",
    "total =len(tw_texts)"
   ]
  },
  {
   "cell_type": "code",
   "execution_count": 30,
   "metadata": {},
   "outputs": [
    {
     "name": "stdout",
     "output_type": "stream",
     "text": [
      "Language |Count  | Percent\n",
      "*****************************\n",
      "English  | 2519  | 63.10\n",
      "-----------------------------\n",
      "Other    | 1473  | 36.90\n",
      "-----------------------------\n",
      "Total    | 3992  | 100.00\n"
     ]
    }
   ],
   "source": [
    "print(\"Language |Count  | Percent\")\n",
    "print(\"*****************************\")\n",
    "print(f\"English  | %d  | %.2f\"%(en_count,(en_count/total)*100))\n",
    "print(\"-----------------------------\")\n",
    "print(f\"Other    | %d  | %.2f\"%(other_count,(other_count/total)*100))\n",
    "print(\"-----------------------------\")\n",
    "print(f\"Total    | %d  | %.2f\"%(total,100))\n"
   ]
  },
  {
   "cell_type": "code",
   "execution_count": null,
   "metadata": {},
   "outputs": [],
   "source": []
  }
 ],
 "metadata": {
  "kernelspec": {
   "display_name": "Python 3",
   "language": "python",
   "name": "python3"
  },
  "language_info": {
   "codemirror_mode": {
    "name": "ipython",
    "version": 3
   },
   "file_extension": ".py",
   "mimetype": "text/x-python",
   "name": "python",
   "nbconvert_exporter": "python",
   "pygments_lexer": "ipython3",
   "version": "3.9.4"
  }
 },
 "nbformat": 4,
 "nbformat_minor": 4
}
