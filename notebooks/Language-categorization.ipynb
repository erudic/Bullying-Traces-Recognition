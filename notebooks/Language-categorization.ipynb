{
 "cells": [
  {
   "cell_type": "markdown",
   "metadata": {},
   "source": [
    "## Tweet Language categorization"
   ]
  },
  {
   "cell_type": "markdown",
   "metadata": {},
   "source": [
    "Loading tweet texts from json:"
   ]
  },
  {
   "cell_type": "code",
   "execution_count": 62,
   "metadata": {},
   "outputs": [],
   "source": [
    "import json\n",
    "with open(\"../data/tweet.json\") as f:\n",
    "    tweets = json.load(f)\n",
    "tw_texts = [tw['text'] for tw in tweets]"
   ]
  },
  {
   "cell_type": "code",
   "execution_count": 63,
   "metadata": {},
   "outputs": [],
   "source": [
    "import spacy\n",
    "from spacy_langdetect import LanguageDetector\n",
    "\n",
    "nlp = spacy.load('en_core_web_sm')\n",
    "nlp.add_pipe(LanguageDetector(), name='language_detector', last=True)\n",
    "\n",
    "docs = list(nlp.pipe(tw_texts))"
   ]
  },
  {
   "cell_type": "code",
   "execution_count": 64,
   "metadata": {},
   "outputs": [],
   "source": [
    "# sentence level language detection\n",
    "lang_cat_tresh = 0.7\n",
    "\n",
    "en_count=0\n",
    "other_count=0\n",
    "count=0;\n",
    "english_tweets=[]\n",
    "\n",
    "for doc in docs:\n",
    "    lang = doc._.language\n",
    "    if(lang['language']=='en'):\n",
    "        if(lang['score']>=lang_cat_tresh):\n",
    "            en_count+=1\n",
    "            english_tweets.append(doc)\n",
    "        else:\n",
    "            other_count+=1\n",
    "    else:\n",
    "        other_count+=1\n",
    "    count+=1\n",
    "total =len(tw_texts)"
   ]
  },
  {
   "cell_type": "code",
   "execution_count": 65,
   "metadata": {},
   "outputs": [
    {
     "name": "stdout",
     "output_type": "stream",
     "text": [
      "Language |Count  | Percent\n",
      "*****************************\n",
      "English  | 2439  | 61.10\n",
      "-----------------------------\n",
      "Other    | 1553  | 38.90\n",
      "-----------------------------\n",
      "Total    | 3992  | 100.00\n"
     ]
    }
   ],
   "source": [
    "print(\"Language |Count  | Percent\")\n",
    "print(\"*****************************\")\n",
    "print(f\"English  | %d  | %.2f\"%(en_count,(en_count/total)*100))\n",
    "print(\"-----------------------------\")\n",
    "print(f\"Other    | %d  | %.2f\"%(other_count,(other_count/total)*100))\n",
    "print(\"-----------------------------\")\n",
    "print(f\"Total    | %d  | %.2f\"%(total,100))\n"
   ]
  },
  {
   "cell_type": "code",
   "execution_count": 66,
   "metadata": {},
   "outputs": [],
   "source": [
    "from spacy.tokenizer import Tokenizer\n",
    "from spacy.lang.en import English\n",
    "    \n",
    "nlp = spacy.load('en_core_web_sm')\n",
    "tokenizer=Tokenizer(nlp.vocab);"
   ]
  },
  {
   "cell_type": "code",
   "execution_count": 68,
   "metadata": {},
   "outputs": [
    {
     "ename": "ModuleNotFoundError",
     "evalue": "No module named 'spacy.pipeline.tok2vec'",
     "output_type": "error",
     "traceback": [
      "\u001b[0;31m---------------------------------------------------------------------------\u001b[0m",
      "\u001b[0;31mModuleNotFoundError\u001b[0m                       Traceback (most recent call last)",
      "\u001b[0;32m<ipython-input-68-a0d7922ed013>\u001b[0m in \u001b[0;36m<module>\u001b[0;34m\u001b[0m\n\u001b[0;32m----> 1\u001b[0;31m \u001b[0;32mfrom\u001b[0m \u001b[0mspacy\u001b[0m\u001b[0;34m.\u001b[0m\u001b[0mpipeline\u001b[0m\u001b[0;34m.\u001b[0m\u001b[0mtok2vec\u001b[0m \u001b[0;32mimport\u001b[0m \u001b[0mDEFAULT_TOK2VEC_MODEL\u001b[0m\u001b[0;34m\u001b[0m\u001b[0;34m\u001b[0m\u001b[0m\n\u001b[0m\u001b[1;32m      2\u001b[0m \u001b[0mconfig\u001b[0m \u001b[0;34m=\u001b[0m \u001b[0;34m{\u001b[0m\u001b[0;34m\"model\"\u001b[0m\u001b[0;34m:\u001b[0m \u001b[0mDEFAULT_TOK2VEC_MODEL\u001b[0m\u001b[0;34m}\u001b[0m\u001b[0;34m\u001b[0m\u001b[0;34m\u001b[0m\u001b[0m\n\u001b[1;32m      3\u001b[0m \u001b[0mnlp\u001b[0m\u001b[0;34m.\u001b[0m\u001b[0madd_pipe\u001b[0m\u001b[0;34m(\u001b[0m\u001b[0;34m\"tok2vec\"\u001b[0m\u001b[0;34m,\u001b[0m \u001b[0mconfig\u001b[0m\u001b[0;34m=\u001b[0m\u001b[0mconfig\u001b[0m\u001b[0;34m)\u001b[0m\u001b[0;34m\u001b[0m\u001b[0;34m\u001b[0m\u001b[0m\n",
      "\u001b[0;31mModuleNotFoundError\u001b[0m: No module named 'spacy.pipeline.tok2vec'"
     ]
    }
   ],
   "source": [
    "from spacy.pipeline.tok2vec import DEFAULT_TOK2VEC_MODEL\n",
    "config = {\"model\": DEFAULT_TOK2VEC_MODEL}\n",
    "nlp.add_pipe(\"tok2vec\", config=config)\n"
   ]
  },
  {
   "cell_type": "code",
   "execution_count": null,
   "metadata": {},
   "outputs": [],
   "source": [
    "for doc in nlp.pipe(tokenizer.pipe([doc.text for doc in english_tweets])):\n",
    "    print(doc)"
   ]
  },
  {
   "cell_type": "code",
   "execution_count": null,
   "metadata": {},
   "outputs": [],
   "source": [
    "for doc in english_tweets:\n",
    "    print(doc.text)"
   ]
  },
  {
   "cell_type": "code",
   "execution_count": null,
   "metadata": {},
   "outputs": [],
   "source": []
  }
 ],
 "metadata": {
  "kernelspec": {
   "display_name": "Python 3",
   "language": "python",
   "name": "python3"
  },
  "language_info": {
   "codemirror_mode": {
    "name": "ipython",
    "version": 3
   },
   "file_extension": ".py",
   "mimetype": "text/x-python",
   "name": "python",
   "nbconvert_exporter": "python",
   "pygments_lexer": "ipython3",
   "version": "3.9.4"
  }
 },
 "nbformat": 4,
 "nbformat_minor": 4
}
