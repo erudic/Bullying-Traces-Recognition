{
 "cells": [
  {
   "cell_type": "code",
   "execution_count": 101,
   "id": "788972f9",
   "metadata": {},
   "outputs": [],
   "source": [
    "import pandas as pd\n",
    "import numpy as np\n",
    "import re\n",
    "from pprint import pprint\n",
    "import collections\n",
    "import matplotlib.pyplot as plt\n",
    "from pathlib import Path\n",
    "from sklearn.model_selection import train_test_split\n",
    "from keras.preprocessing.text import Tokenizer\n",
    "from keras.preprocessing.sequence import pad_sequences\n",
    "from keras.utils.np_utils import to_categorical\n",
    "from sklearn.preprocessing import LabelEncoder\n",
    "from keras import models\n",
    "from keras import layers\n",
    "import json\n",
    "from nltk.corpus import stopwords\n",
    "\n",
    "import gensim\n",
    "import gensim.corpora as corpora\n",
    "from gensim.utils import simple_preprocess\n",
    "from gensim.models import CoherenceModel\n",
    "\n",
    "# spacy for lemmatization\n",
    "import spacy\n",
    "\n",
    "# Plotting tools\n",
    "import pyLDAvis\n",
    "import pyLDAvis.gensim  # don't skip this\n",
    "import matplotlib.pyplot as plt\n",
    "%matplotlib inline\n",
    "\n",
    "# Enable logging for gensim - optional\n",
    "import logging\n",
    "logging.basicConfig(format='%(asctime)s : %(levelname)s : %(message)s', level=logging.ERROR)\n",
    "\n",
    "import warnings\n",
    "warnings.filterwarnings(\"ignore\",category=DeprecationWarning)\n",
    "\n",
    "import os"
   ]
  },
  {
   "cell_type": "code",
   "execution_count": 116,
   "id": "27efb356",
   "metadata": {},
   "outputs": [
    {
     "name": "stdout",
     "output_type": "stream",
     "text": [
      "['i', 'me', 'my', 'myself', 'we', 'our', 'ours', 'ourselves', 'you', \"you're\", \"you've\", \"you'll\", \"you'd\", 'your', 'yours', 'yourself', 'yourselves', 'he', 'him', 'his', 'himself', 'she', \"she's\", 'her', 'hers', 'herself', 'it', \"it's\", 'its', 'itself', 'they', 'them', 'their', 'theirs', 'themselves', 'what', 'which', 'who', 'whom', 'this', 'that', \"that'll\", 'these', 'those', 'am', 'is', 'are', 'was', 'were', 'be', 'been', 'being', 'have', 'has', 'had', 'having', 'do', 'does', 'did', 'doing', 'a', 'an', 'the', 'and', 'but', 'if', 'or', 'because', 'as', 'until', 'while', 'of', 'at', 'by', 'for', 'with', 'about', 'against', 'between', 'into', 'through', 'during', 'before', 'after', 'above', 'below', 'to', 'from', 'up', 'down', 'in', 'out', 'on', 'off', 'over', 'under', 'again', 'further', 'then', 'once', 'here', 'there', 'when', 'where', 'why', 'how', 'all', 'any', 'both', 'each', 'few', 'more', 'most', 'other', 'some', 'such', 'no', 'nor', 'not', 'only', 'own', 'same', 'so', 'than', 'too', 'very', 's', 't', 'can', 'will', 'just', 'don', \"don't\", 'should', \"should've\", 'now', 'd', 'll', 'm', 'o', 're', 've', 'y', 'ain', 'aren', \"aren't\", 'couldn', \"couldn't\", 'didn', \"didn't\", 'doesn', \"doesn't\", 'hadn', \"hadn't\", 'hasn', \"hasn't\", 'haven', \"haven't\", 'isn', \"isn't\", 'ma', 'mightn', \"mightn't\", 'mustn', \"mustn't\", 'needn', \"needn't\", 'shan', \"shan't\", 'shouldn', \"shouldn't\", 'wasn', \"wasn't\", 'weren', \"weren't\", 'won', \"won't\", 'wouldn', \"wouldn't\", 'http', 'bully', 'bullying']\n"
     ]
    }
   ],
   "source": [
    "from nltk.corpus import stopwords\n",
    "stop_words = stopwords.words('english')\n",
    "stop_words.extend(['http', 'bully', 'bullying'])\n",
    "print(stop_words)"
   ]
  },
  {
   "cell_type": "code",
   "execution_count": 117,
   "id": "1e48d7ff",
   "metadata": {},
   "outputs": [
    {
     "name": "stdout",
     "output_type": "stream",
     "text": [
      "['none' nan 'anger' 'relief' 'sadness' 'empathy' 'pride' 'other']\n",
      "['anger' 'relief' 'sadness' 'empathy' 'pride' 'other']\n",
      "                Tweet ID    User ID Bullying_Traces?             Type   Form  \\\n",
      "80    105946088254619648   20151008                y       accusation  other   \n",
      "98    105239503526043649  199288197                y  self-disclosure  other   \n",
      "126   101483313612587008   94043537                y       accusation  other   \n",
      "144   108415123839913984   24828721                y  self-disclosure  other   \n",
      "182   100989100592599040  129903842                y  self-disclosure  other   \n",
      "...                  ...        ...              ...              ...    ...   \n",
      "2254  102174578519982080  307562787                y  self-disclosure  other   \n",
      "2328  103085289492324355  288212914                y           report  other   \n",
      "2336  108691272751001600   77786440                y       accusation  other   \n",
      "2373  102766332814180355   78319048                y  self-disclosure  other   \n",
      "2399  107283415669276672  244353038                y           report  other   \n",
      "\n",
      "     Teasing? Author_Role  Emotion  \\\n",
      "80          n     accuser    anger   \n",
      "98          n      victim   relief   \n",
      "126         n     accuser    anger   \n",
      "144         n      victim  sadness   \n",
      "182         n    defender  empathy   \n",
      "...       ...         ...      ...   \n",
      "2254        n      victim    anger   \n",
      "2328        n    reporter  sadness   \n",
      "2336        n     accuser    anger   \n",
      "2373        n       bully    other   \n",
      "2399        n    reporter    anger   \n",
      "\n",
      "                                                   Text  \n",
      "80    @PaytonRaeMusic i love your stomp out bullying...  \n",
      "98                    @all_lightskin24 follow bck bully  \n",
      "126   America loves the underdog as an archetype, bu...  \n",
      "144   the WWE having an anti-bullying campaign will ...  \n",
      "182   We should take the \"Stop The Bullying\" & chang...  \n",
      "...                                                 ...  \n",
      "2254      Real friends bully each other without offense  \n",
      "2328  THE BULLY IS UP EARLY AS FUCC SUMTIN MUST BK ...  \n",
      "2336  @Steven1719 getitng abuse,bullied,called a slu...  \n",
      "2373  http://bit.ly/fg6pMM Would you know it if your...  \n",
      "2399  http://bit.ly/o4No6z Simon Cowell needs to do ...  \n",
      "\n",
      "[68 rows x 9 columns]\n"
     ]
    }
   ],
   "source": [
    "df = pd.read_csv('../data/english_labels_with_tweets.csv')\n",
    "print(df.Emotion.unique())\n",
    "emotions=['anger', 'relief', 'sadness', 'empathy', 'pride', 'other']\n",
    "\n",
    "df = df.loc[df['Emotion'].isin(emotions)]\n",
    "print(df.Emotion.unique())\n",
    "print(df)"
   ]
  },
  {
   "cell_type": "code",
   "execution_count": 118,
   "id": "e7514968",
   "metadata": {},
   "outputs": [
    {
     "name": "stdout",
     "output_type": "stream",
     "text": [
      "['i love your stomp out bullying video! very inspirational(: i think i will '\n",
      " 'enter...♥ ']\n"
     ]
    }
   ],
   "source": [
    "# Convert to list\n",
    "data = df.Text.values.tolist()\n",
    "\n",
    "#remove links\n",
    "data = [re.sub(r\"http\\S+\", \"\", sent) for sent in data]\n",
    "\n",
    "# Remove Emails\n",
    "data = [re.sub('\\S*@\\S*\\s?', '', sent) for sent in data]\n",
    "\n",
    "# Remove new line characters\n",
    "data = [re.sub('\\s+', ' ', sent) for sent in data]\n",
    "\n",
    "# Remove distracting single quotes\n",
    "data = [re.sub(\"\\'\", \"\", sent) for sent in data]\n",
    "\n",
    "pprint(data[:1])"
   ]
  },
  {
   "cell_type": "code",
   "execution_count": 119,
   "id": "7af5f3e1",
   "metadata": {},
   "outputs": [
    {
     "name": "stdout",
     "output_type": "stream",
     "text": [
      "[['love', 'your', 'stomp', 'out', 'bullying', 'video', 'very', 'inspirational', 'think', 'will', 'enter']]\n"
     ]
    }
   ],
   "source": [
    "def sent_to_words(sentences):\n",
    "    for sentence in sentences:\n",
    "        yield(gensim.utils.simple_preprocess(str(sentence), deacc=False))  # deacc=True removes punctuations\n",
    "\n",
    "data_words = list(sent_to_words(data))\n",
    "\n",
    "print(data_words[:1])"
   ]
  },
  {
   "cell_type": "code",
   "execution_count": 120,
   "id": "0a54dadc",
   "metadata": {},
   "outputs": [
    {
     "name": "stdout",
     "output_type": "stream",
     "text": [
      "['love', 'your', 'stomp', 'out', 'bullying', 'video', 'very', 'inspirational', 'think', 'will', 'enter']\n"
     ]
    },
    {
     "name": "stderr",
     "output_type": "stream",
     "text": [
      "C:\\Users\\erajkovic\\Anaconda3\\envs\\tensorflow_env\\lib\\site-packages\\gensim\\models\\phrases.py:494: UserWarning: For a faster implementation, use the gensim.models.phrases.Phraser class\n",
      "  warnings.warn(\"For a faster implementation, use the gensim.models.phrases.Phraser class\")\n"
     ]
    }
   ],
   "source": [
    "# Build the bigram and trigram models\n",
    "bigram = gensim.models.Phrases(data_words, min_count=5, threshold=100) # higher threshold fewer phrases.\n",
    "trigram = gensim.models.Phrases(bigram[data_words], threshold=100)  \n",
    "\n",
    "# Faster way to get a sentence clubbed as a trigram/bigram\n",
    "bigram_mod = gensim.models.phrases.Phraser(bigram)\n",
    "trigram_mod = gensim.models.phrases.Phraser(trigram)\n",
    "\n",
    "# See trigram example\n",
    "print(trigram_mod[bigram_mod[data_words[0]]])"
   ]
  },
  {
   "cell_type": "code",
   "execution_count": 121,
   "id": "7399f5ed",
   "metadata": {},
   "outputs": [
    {
     "name": "stdout",
     "output_type": "stream",
     "text": [
      "['<user>', '.', ':']\n"
     ]
    }
   ],
   "source": [
    "# Define functions for stopwords, bigrams, trigrams and lemmatization\n",
    "def remove_stopwords(texts):\n",
    "    return [[word for word in simple_preprocess(str(doc)) if word not in stop_words] for doc in texts]\n",
    "\n",
    "def make_bigrams(texts):\n",
    "    return [bigram_mod[doc] for doc in texts]\n",
    "\n",
    "def make_trigrams(texts):\n",
    "    return [trigram_mod[bigram_mod[doc]] for doc in texts]\n",
    "\n",
    "def lemmatization(texts, allowed_postags=['NOUN', 'ADJ', 'VERB', 'ADV']):\n",
    "    \"\"\"https://spacy.io/api/annotation\"\"\"\n",
    "    texts_out = []\n",
    "    for sent in texts:\n",
    "        doc = nlp(\" \".join(sent)) \n",
    "        texts_out.append([token.lemma_ for token in doc if token.pos_ in allowed_postags])\n",
    "    return texts_out\n",
    "\n",
    "def remove_no_dict_words(texts):\n",
    "    return [[word for word in doc if word in glove_dict] for doc in texts]\n",
    "    \n",
    "GLOVE_DIM=100\n",
    "glove_file = 'C:/Users/erajkovic/Downloads/glove.twitter.27B/glove.twitter.27B.100d.txt'\n",
    "glove_dict = []\n",
    "NB_WORDS = 4525   # duljina file-a vocab\n",
    "glove = open(glove_file, encoding=\"utf8\")\n",
    "for line in glove:\n",
    "    values = line.split()\n",
    "    word = values[0]\n",
    "    glove_dict.append(word)\n",
    "glove.close()\n",
    "print(glove_dict[:3])"
   ]
  },
  {
   "cell_type": "code",
   "execution_count": 130,
   "id": "6e5fb641",
   "metadata": {},
   "outputs": [
    {
     "name": "stdout",
     "output_type": "stream",
     "text": [
      "[['love', 'stomp', 'video', 'inspirational', 'think', 'enter']]\n"
     ]
    }
   ],
   "source": [
    "# Remove Stop Words\n",
    "data_words_nodict = remove_no_dict_words(data_words)\n",
    "data_words_nostops = remove_stopwords(data_words_nodict)\n",
    "# Form Bigrams\n",
    "data_words_bigrams = make_bigrams(data_words_nostops)\n",
    "\n",
    "# Initialize spacy 'en' model, keeping only tagger component (for efficiency)\n",
    "# python3 -m spacy download en\n",
    "nlp = spacy.load('en_core_web_sm', disable=['parser', 'ner'])\n",
    "\n",
    "# Do lemmatization keeping only noun, adj, vb, adv\n",
    "data_lemmatized = lemmatization(data_words_bigrams, allowed_postags=['NOUN', 'ADJ', 'VERB', 'ADV'])\n",
    "data_lemmatized = remove_stopwords(data_lemmatized)\n",
    "\n",
    "print(data_lemmatized[:1])\n"
   ]
  },
  {
   "cell_type": "code",
   "execution_count": 131,
   "id": "5937163d",
   "metadata": {},
   "outputs": [
    {
     "name": "stdout",
     "output_type": "stream",
     "text": [
      "[[(0, 1), (1, 1), (2, 1), (3, 1), (4, 1), (5, 1)]]\n"
     ]
    },
    {
     "data": {
      "text/plain": [
       "[[('enter', 1),\n",
       "  ('inspirational', 1),\n",
       "  ('love', 1),\n",
       "  ('stomp', 1),\n",
       "  ('think', 1),\n",
       "  ('video', 1)]]"
      ]
     },
     "execution_count": 131,
     "metadata": {},
     "output_type": "execute_result"
    }
   ],
   "source": [
    "# Create Dictionary\n",
    "id2word = corpora.Dictionary(data_lemmatized)\n",
    "\n",
    "# Create Corpus\n",
    "texts = data_lemmatized\n",
    "\n",
    "# Term Document Frequency\n",
    "corpus = [id2word.doc2bow(text) for text in texts]\n",
    "\n",
    "# View\n",
    "print(corpus[:1])\n",
    "# Human readable format of corpus (term-frequency)\n",
    "[[(id2word[id], freq) for id, freq in cp] for cp in corpus[:1]]"
   ]
  },
  {
   "cell_type": "code",
   "execution_count": 132,
   "id": "536521c1",
   "metadata": {},
   "outputs": [],
   "source": [
    "# Build LDA model\n",
    "lda_model = gensim.models.ldamodel.LdaModel(corpus=corpus,\n",
    "                                           id2word=id2word,\n",
    "                                           num_topics=6, \n",
    "                                           random_state=100,\n",
    "                                           update_every=1,\n",
    "                                           chunksize=100,\n",
    "                                           passes=10,\n",
    "                                           alpha='auto',\n",
    "                                           per_word_topics=True)"
   ]
  },
  {
   "cell_type": "code",
   "execution_count": 133,
   "id": "3310343c",
   "metadata": {},
   "outputs": [
    {
     "name": "stdout",
     "output_type": "stream",
     "text": [
      "[(0,\n",
      "  '0.020*\"kwangsoo\" + 0.020*\"underdog\" + 0.020*\"remove\" + 0.020*\"beatdown\" + '\n",
      "  '0.011*\"lol\" + 0.011*\"twitter\" + 0.011*\"love\" + 0.011*\"tellin\" + '\n",
      "  '0.011*\"still\" + 0.011*\"realize\"'),\n",
      " (1,\n",
      "  '0.052*\"get\" + 0.027*\"twitter\" + 0.014*\"school\" + 0.014*\"say\" + 0.014*\"grip\" '\n",
      "  '+ 0.014*\"word\" + 0.014*\"easy\" + 0.014*\"really\" + 0.014*\"mouth\" + '\n",
      "  '0.014*\"shut\"'),\n",
      " (2,\n",
      "  '0.022*\"time\" + 0.015*\"read\" + 0.015*\"anti\" + 0.015*\"alsatian\" + 0.015*\"go\" '\n",
      "  '+ 0.015*\"post\" + 0.015*\"cyber\" + 0.008*\"alex\" + 0.008*\"get\" + 0.008*\"real\"'),\n",
      " (3,\n",
      "  '0.021*\"feel\" + 0.021*\"watch\" + 0.021*\"wrong\" + 0.021*\"think\" + '\n",
      "  '0.021*\"american\" + 0.011*\"person\" + 0.011*\"allow\" + 0.011*\"embrace\" + '\n",
      "  '0.011*\"authentic\" + 0.011*\"turn\"'),\n",
      " (4,\n",
      "  '0.021*\"ad\" + 0.021*\"dem\" + 0.021*\"lol\" + 0.011*\"ms\" + 0.011*\"spark\" + '\n",
      "  '0.011*\"explain\" + 0.011*\"fear\" + 0.011*\"sweet\" + 0.011*\"complaint\" + '\n",
      "  '0.011*\"yesterday\"'),\n",
      " (5,\n",
      "  '0.020*\"take\" + 0.020*\"need\" + 0.014*\"nice\" + 0.014*\"abuse\" + 0.014*\"hater\" '\n",
      "  '+ 0.014*\"day\" + 0.014*\"go\" + 0.014*\"stop\" + 0.008*\"response\" + '\n",
      "  '0.008*\"feel\"')]\n"
     ]
    }
   ],
   "source": [
    "# Print the Keyword in the 10 topics\n",
    "pprint(lda_model.print_topics())\n",
    "doc_lda = lda_model[corpus]"
   ]
  },
  {
   "cell_type": "code",
   "execution_count": 134,
   "id": "094220ad",
   "metadata": {},
   "outputs": [
    {
     "name": "stdout",
     "output_type": "stream",
     "text": [
      "\n",
      "Perplexity:  -6.476184224318235\n",
      "\n",
      "Coherence Score:  0.45883110419040857\n"
     ]
    }
   ],
   "source": [
    "# Compute Perplexity\n",
    "print('\\nPerplexity: ', lda_model.log_perplexity(corpus))  # a measure of how good the model is. lower the better.\n",
    "\n",
    "# Compute Coherence Score\n",
    "coherence_model_lda = CoherenceModel(model=lda_model, texts=data_lemmatized, dictionary=id2word, coherence='c_v')\n",
    "coherence_lda = coherence_model_lda.get_coherence()\n",
    "print('\\nCoherence Score: ', coherence_lda)"
   ]
  },
  {
   "cell_type": "code",
   "execution_count": 135,
   "id": "272feba8",
   "metadata": {},
   "outputs": [
    {
     "data": {
      "text/html": [
       "\n",
       "<link rel=\"stylesheet\" type=\"text/css\" href=\"https://cdn.jsdelivr.net/gh/bmabey/pyLDAvis@3.2.2/pyLDAvis/js/ldavis.v1.0.0.css\">\n",
       "\n",
       "\n",
       "<div id=\"ldavis_el17112210679651154480690153\"></div>\n",
       "<script type=\"text/javascript\">\n",
       "\n",
       "var ldavis_el17112210679651154480690153_data = {\"mdsDat\": {\"x\": [-0.10972610630612947, 0.1341128583679981, 0.011392887679850323, -0.0359205294918891, 0.005724992776569177, -0.005584103026399082], \"y\": [0.10709426471343948, 0.0725283387506886, -0.0724377531788586, -0.08145246953170669, -0.019469201176249833, -0.006263179577312806], \"topics\": [1, 2, 3, 4, 5, 6], \"cluster\": [1, 1, 1, 1, 1, 1], \"Freq\": [26.39316768069228, 23.64538114396925, 15.138863400302233, 13.942243476994587, 13.192081851583731, 7.688262446457916]}, \"tinfo\": {\"Term\": [\"get\", \"twitter\", \"wrong\", \"feel\", \"lol\", \"ad\", \"dem\", \"watch\", \"think\", \"american\", \"time\", \"kwangsoo\", \"underdog\", \"remove\", \"beatdown\", \"school\", \"say\", \"take\", \"need\", \"know\", \"shut\", \"fuck\", \"grip\", \"word\", \"easy\", \"really\", \"mouth\", \"personal\", \"kid\", \"illegal\", \"take\", \"need\", \"hater\", \"day\", \"stop\", \"nickname\", \"jake\", \"ally\", \"well\", \"smexy\", \"long\", \"michael\", \"mine\", \"alyssa\", \"ily\", \"kerry\", \"court\", \"like\", \"believe\", \"basketball\", \"adult\", \"funny\", \"noah\", \"hell\", \"pass\", \"follower\", \"jordan\", \"simon\", \"ai\", \"dj\", \"nice\", \"abuse\", \"go\", \"response\", \"feel\", \"ever\", \"make\", \"never\", \"school\", \"wrong\", \"read\", \"video\", \"form\", \"alex\", \"man\", \"shut\", \"fuck\", \"time\", \"alsatian\", \"post\", \"cyber\", \"specific\", \"beware\", \"help\", \"publish\", \"shepher\", \"breed\", \"project\", \"lot\", \"invaluable\", \"shepherd\", \"experience\", \"stand\", \"show\", \"job\", \"owner\", \"workplace\", \"glenn\", \"campaign\", \"kelly\", \"hazing\", \"weird\", \"legislation\", \"check\", \"stopping\", \"harassment\", \"single\", \"anti\", \"read\", \"go\", \"alex\", \"get\", \"never\", \"real\", \"ever\", \"child\", \"speak\", \"call\", \"become\", \"effort\", \"life\", \"kwangsoo\", \"underdog\", \"remove\", \"beatdown\", \"tellin\", \"still\", \"realize\", \"actually\", \"run\", \"ginge\", \"marry\", \"shit\", \"noooooo\", \"hate\", \"actuality\", \"veganism\", \"language\", \"america\", \"far\", \"whore\", \"quiero\", \"archetype\", \"dude\", \"cc\", \"ridicule\", \"ala\", \"force\", \"ahahahaa\", \"super\", \"hacerle\", \"lol\", \"twitter\", \"love\", \"gettin\", \"say\", \"watch\", \"think\", \"american\", \"allow\", \"embrace\", \"authentic\", \"turn\", \"mold\", \"true\", \"game\", \"self\", \"society\", \"freedom\", \"melo\", \"anymore\", \"hair\", \"stylist\", \"brother\", \"pure\", \"ugly\", \"noona\", \"lebron\", \"little\", \"jongwoon\", \"cry\", \"inspirational\", \"bk\", \"sumtin\", \"hacer\", \"volverlo\", \"wrong\", \"feel\", \"person\", \"gettin\", \"perfect\", \"enter\", \"ad\", \"dem\", \"ms\", \"spark\", \"explain\", \"fear\", \"sweet\", \"complaint\", \"yesterday\", \"lisa\", \"claim\", \"libel\", \"zoey\", \"bastad\", \"blog\", \"unfairly\", \"team\", \"television\", \"wanted\", \"rudys\", \"barton\", \"protractor\", \"attack\", \"woo\", \"wall\", \"threatened\", \"trippin\", \"ben\", \"even\", \"schoolyard\", \"lol\", \"school\", \"response\", \"ever\", \"child\", \"read\", \"get\", \"grip\", \"word\", \"easy\", \"really\", \"mouth\", \"kid\", \"personal\", \"illegal\", \"regardless\", \"bet\", \"view\", \"girl\", \"por\", \"fat\", \"ahora\", \"lobak\", \"twitter\", \"say\", \"know\", \"shut\", \"fuck\", \"school\", \"wrong\", \"feel\", \"attack\", \"woo\", \"protractor\", \"rudys\", \"unfairly\", \"fail\", \"lol\", \"need\", \"american\", \"go\"], \"Freq\": [2.0, 1.0, 2.0, 3.0, 2.0, 1.0, 1.0, 1.0, 1.0, 1.0, 2.0, 1.0, 1.0, 1.0, 1.0, 2.0, 1.0, 2.0, 2.0, 1.0, 1.0, 1.0, 0.0, 0.0, 0.0, 0.0, 0.0, 0.0, 0.0, 0.0, 2.0960312228839193, 2.0960185688153916, 1.434137928063121, 1.4341347645459892, 1.4341198097377292, 0.7722301098227625, 0.772230013958607, 0.7722298701623738, 0.7722297263661405, 0.7722294867057518, 0.7722293908415963, 0.772229247045363, 0.7722291511812074, 0.7722291511812074, 0.7722290553170519, 0.7722289115208186, 0.7722290073849741, 0.7722287677245854, 0.7722286239283521, 0.7722283842679634, 0.7722282884038079, 0.7722281925396524, 0.772228048743419, 0.772228048743419, 0.7722279528792635, 0.7722279049471857, 0.7722278090830302, 0.7722277132188747, 0.7722277132188747, 0.7722275214905637, 1.4341611271887549, 1.4341382156555875, 1.4341320803496347, 0.7722547469107292, 0.7722540758616406, 0.7722496661104871, 0.772247317438677, 0.7722463587971219, 0.7722461191367331, 0.7722444415140116, 0.7722440580573896, 0.7722435308045342, 0.7722368203136484, 0.7722358616720932, 0.772235334419238, 0.7722310684643177, 0.7722308767360067, 2.0208622359428454, 1.3826996890621057, 1.3826911006860434, 1.3826745251202435, 0.7445307867830797, 0.744530271480516, 0.7445300138292341, 0.7445300138292341, 0.7445299279454736, 0.7445297561779523, 0.7445294985266704, 0.744529584410431, 0.7445294985266704, 0.7445293267591492, 0.7445293267591492, 0.7445293267591492, 0.744529154991628, 0.7445290691078673, 0.7445289832241067, 0.7445288114565854, 0.7445288114565854, 0.7445287255728248, 0.7445286396890642, 0.7445286396890642, 0.7445285538053036, 0.7445283820377824, 0.7445283820377824, 0.7445283820377824, 0.7445280385027399, 0.7445276949676973, 1.382703467947573, 1.3827184117219211, 1.3826924748262135, 0.7446320437368524, 0.7445478776514434, 0.744538430437775, 0.744538430437775, 0.7445370562976051, 0.7445367986463233, 0.7445362833437595, 0.7445326762258134, 0.7445307867830797, 0.7445300997129948, 0.7445300138292341, 1.1573631877219352, 1.157362747827983, 1.1573615381196145, 1.1573483413010484, 0.6231961124869438, 0.6231957825664797, 0.6231954526460155, 0.6231952326990394, 0.6231950127520633, 0.6231949577653193, 0.6231946828315992, 0.6231946278448551, 0.6231946278448551, 0.6231946278448551, 0.623194187950903, 0.6231941329641589, 0.6231938030436948, 0.6231936380834626, 0.6231929782425344, 0.6231929782425344, 0.6231928132823022, 0.6231927033088143, 0.623192208428118, 0.62319209845463, 0.6231920434678859, 0.6231919884811419, 0.6231918235209098, 0.6231917685341658, 0.6231916585606777, 0.6231909987197495, 0.6232102990669024, 0.6232027108962269, 0.6231969922748483, 0.6231944628846231, 0.6231920434678859, 1.1166847112147247, 1.1166794446098611, 1.1166712408599773, 0.6012962278305388, 0.6012961771901074, 0.6012961771901074, 0.6012959746283819, 0.6012959746283819, 0.601295721426225, 0.6012954682240681, 0.601295316302774, 0.6012952150219112, 0.6012951643814798, 0.6012951643814798, 0.6012950631006171, 0.6012950124601857, 0.6012948098984602, 0.6012947592580288, 0.6012946073367346, 0.6012938477302638, 0.6012937464494011, 0.6012936451685383, 0.6012935438876756, 0.6012933919663814, 0.6012930881237931, 0.6012919233938714, 0.601291467629989, 0.6012913663491262, 0.6012906573830868, 0.6012905054617927, 1.1166840022486855, 1.1166938264923734, 0.6012971393583036, 0.6012958733475191, 0.6012955695049309, 0.6012942022132836, 1.0879558792022872, 1.0838955964276216, 0.5858245637586764, 0.5858243720957732, 0.5858243241800474, 0.5858242762643215, 0.585824132517144, 0.5858240846014182, 0.5858236533598858, 0.5858231742026276, 0.5858230304554501, 0.5858224554667403, 0.5858224075510144, 0.5858221679723854, 0.585821736730853, 0.5858216888151272, 0.585821736730853, 0.585821209657869, 0.5858209700792398, 0.5858204909219816, 0.5858202992590783, 0.5858100452937526, 0.5858077932546389, 0.5858072661816549, 0.5857484735860718, 0.5857405195755855, 0.5857351530142935, 0.5857302176945338, 0.5857278219082428, 0.5857251865433226, 1.0835085331944352, 0.5858106681981882, 0.5858063078671385, 0.5858023787776211, 0.5858000309070558, 0.5857893936159234, 1.551929648755635, 0.4345499480580716, 0.4345495571082948, 0.4345490265335976, 0.43454866350880483, 0.43454810500912366, 0.43454626196017565, 0.4345462340351916, 0.4345460106353191, 0.43454581516043067, 0.434545480060622, 0.4345451728857973, 0.434545033260877, 0.43454204528758256, 0.43454106791314046, 0.43453902938930405, 0.43451102063029146, 0.8070042260604686, 0.43455022730791226, 0.43454422343633925, 0.4345475744344265, 0.4345467646098887, 0.4345504786327688, 0.43454573138547853, 0.4345373818152445, 0.062081868132302806, 0.06208177039485859, 0.06208169360115243, 0.06208049282683783, 0.062080073952076924, 0.06208715293553623, 0.06208639197972059, 0.062084053262305525, 0.06208370420000477, 0.06208362740629861], \"Total\": [2.0, 1.0, 2.0, 3.0, 2.0, 1.0, 1.0, 1.0, 1.0, 1.0, 2.0, 1.0, 1.0, 1.0, 1.0, 2.0, 1.0, 2.0, 2.0, 1.0, 1.0, 1.0, 0.0, 0.0, 0.0, 0.0, 0.0, 0.0, 0.0, 0.0, 2.5231144973925743, 2.523111790350702, 1.8612051262519633, 1.8612043634873805, 1.8612008736386287, 1.1992920840553114, 1.1992919477199235, 1.1992919637458819, 1.1992919398628976, 1.1992918972178905, 1.1992918819310578, 1.1992918250112359, 1.1992917249015536, 1.1992917933318, 1.1992918382243023, 1.1992917217296253, 1.1992918977140128, 1.1992916830132274, 1.1992916829158853, 1.199291529654866, 1.1992915094689447, 1.1992915063756482, 1.1992915523951757, 1.1992915563781499, 1.199291508565804, 1.1992914994082895, 1.1992915191126494, 1.199291457100189, 1.1992914608219758, 1.1992913742595472, 2.3953802168889373, 2.39537503316086, 3.1375441136642874, 2.3396058350256475, 3.1047407652727332, 2.339607572485346, 2.371636872838909, 2.3528669993241467, 2.0739096123916307, 2.602571464704486, 2.9777804055334594, 2.3528643467768275, 1.7334640160294328, 2.3396244816987197, 1.7334639052085437, 1.5717678086318339, 1.5717680415797917, 2.4518924957788033, 1.8137220029180927, 1.8137200091560088, 1.8137170953184818, 1.1755500032987687, 1.1755498804494873, 1.175549825516693, 1.1755499418801993, 1.1755498946637688, 1.175549837445023, 1.1755496798779443, 1.175549816427662, 1.1755497309346215, 1.1755496976694497, 1.1755497486258397, 1.17554984096372, 1.175549690008883, 1.1755496357660302, 1.1755496735989317, 1.1755495483653886, 1.175549562076142, 1.1755495795952398, 1.1755496804029213, 1.1755497236791639, 1.175549732479175, 1.1755495077898352, 1.1755495155020212, 1.1755495464489, 1.1755494626021625, 1.1755493093158513, 2.475633002758506, 2.9777804055334594, 3.1375441136642874, 2.3396244816987197, 2.6654664407260036, 2.3528669993241467, 1.7097216741862975, 2.339607572485346, 1.6776917366230153, 1.709721950411273, 1.709721318836188, 1.8374617851013668, 1.7097211308067364, 1.7097204629332758, 1.60572074220791, 1.6057208641705125, 1.60572072710064, 1.6057205779572843, 1.0715495740518544, 1.0715496065075705, 1.071549568130061, 1.0715496017794135, 1.071549571459421, 1.0715495270367708, 1.0715495592115525, 1.0715494959477343, 1.071549536121196, 1.0715496668466733, 1.0715496033838072, 1.0715495275219424, 1.0715496291819462, 1.0715494445428357, 1.0715496024996278, 1.0715496856909845, 1.0715496333711088, 1.0715497175421516, 1.0715496421665276, 1.0715495928416705, 1.0715495616623394, 1.0715495167215898, 1.071549560639003, 1.071549480894617, 1.0715494586553724, 1.0715498104642507, 2.0772323911213797, 1.8165080647151752, 1.586949482044132, 1.5869496305519917, 1.444024521601864, 1.5681782048344002, 1.5681780865619566, 1.5681782900144874, 1.0527779833211452, 1.0527780363780683, 1.052778073257887, 1.0527779811839497, 1.0527780967497278, 1.052778060535777, 1.0527780129836521, 1.0527780172333814, 1.0527779598282863, 1.0527781487611643, 1.0527781835732528, 1.0527780464890566, 1.0527781402487904, 1.0527780790229777, 1.0527781410173573, 1.052778140076242, 1.0527781634975326, 1.0527781580134736, 1.0527782405113046, 1.0527781575542319, 1.052778298048622, 1.0527783146099505, 1.0527782960446856, 1.0527781264702654, 1.0527781177403732, 1.0527781771354119, 1.0527782430138037, 2.602571464704486, 3.1047407652727332, 1.5869495260354205, 1.5869496305519917, 1.7146909114842832, 1.5549968656175337, 1.5416562628282109, 1.5419155976044712, 1.0395173713961452, 1.0395172984004846, 1.0395174166239727, 1.039517359767829, 1.0395173628729482, 1.0395175023941008, 1.0395174180369304, 1.0395173235598754, 1.0395174488590386, 1.0395174090529482, 1.039517454507875, 1.0395174789312236, 1.039517381728688, 1.0395174179449913, 1.0395175186847319, 1.039517464521922, 1.0395176028002966, 1.0395173696631845, 1.0395178562102618, 1.0395182997407324, 1.0395187601830245, 1.039518840956041, 1.039537826580825, 1.0395403172892688, 1.0395415249353237, 1.0395428424670925, 1.0395434795090435, 1.0395441483484964, 2.0772323911213797, 2.0739096123916307, 2.3396058350256475, 2.339607572485346, 1.6776917366230153, 2.9777804055334594, 2.6654664407260036, 0.9098526764128791, 0.9098529322272091, 0.9098532018610708, 0.9098534883013922, 0.9098537835597577, 0.9098546637973577, 0.9098549004508103, 0.9098547970597127, 0.9098550566559805, 0.9098551330072868, 0.909855202872281, 0.9098553906687858, 0.9098570524994973, 0.9098573966698196, 0.909858406830444, 0.9098738935417763, 1.8165080647151752, 1.444024521601864, 1.548027228839402, 1.5717678086318339, 1.5717680415797917, 2.0739096123916307, 2.602571464704486, 3.1047407652727332, 1.0395187601830245, 1.039518840956041, 1.0395182997407324, 1.0395173696631845, 1.0395174179449913, 1.0715502872403775, 2.0772323911213797, 2.523111790350702, 1.5681782900144874, 3.1375441136642874], \"Category\": [\"Default\", \"Default\", \"Default\", \"Default\", \"Default\", \"Default\", \"Default\", \"Default\", \"Default\", \"Default\", \"Default\", \"Default\", \"Default\", \"Default\", \"Default\", \"Default\", \"Default\", \"Default\", \"Default\", \"Default\", \"Default\", \"Default\", \"Default\", \"Default\", \"Default\", \"Default\", \"Default\", \"Default\", \"Default\", \"Default\", \"Topic1\", \"Topic1\", \"Topic1\", \"Topic1\", \"Topic1\", \"Topic1\", \"Topic1\", \"Topic1\", \"Topic1\", \"Topic1\", \"Topic1\", \"Topic1\", \"Topic1\", \"Topic1\", \"Topic1\", \"Topic1\", \"Topic1\", \"Topic1\", \"Topic1\", \"Topic1\", \"Topic1\", \"Topic1\", \"Topic1\", \"Topic1\", \"Topic1\", \"Topic1\", \"Topic1\", \"Topic1\", \"Topic1\", \"Topic1\", \"Topic1\", \"Topic1\", \"Topic1\", \"Topic1\", \"Topic1\", \"Topic1\", \"Topic1\", \"Topic1\", \"Topic1\", \"Topic1\", \"Topic1\", \"Topic1\", \"Topic1\", \"Topic1\", \"Topic1\", \"Topic1\", \"Topic1\", \"Topic2\", \"Topic2\", \"Topic2\", \"Topic2\", \"Topic2\", \"Topic2\", \"Topic2\", \"Topic2\", \"Topic2\", \"Topic2\", \"Topic2\", \"Topic2\", \"Topic2\", \"Topic2\", \"Topic2\", \"Topic2\", \"Topic2\", \"Topic2\", \"Topic2\", \"Topic2\", \"Topic2\", \"Topic2\", \"Topic2\", \"Topic2\", \"Topic2\", \"Topic2\", \"Topic2\", \"Topic2\", \"Topic2\", \"Topic2\", \"Topic2\", \"Topic2\", \"Topic2\", \"Topic2\", \"Topic2\", \"Topic2\", \"Topic2\", \"Topic2\", \"Topic2\", \"Topic2\", \"Topic2\", \"Topic2\", \"Topic2\", \"Topic2\", \"Topic3\", \"Topic3\", \"Topic3\", \"Topic3\", \"Topic3\", \"Topic3\", \"Topic3\", \"Topic3\", \"Topic3\", \"Topic3\", \"Topic3\", \"Topic3\", \"Topic3\", \"Topic3\", \"Topic3\", \"Topic3\", \"Topic3\", \"Topic3\", \"Topic3\", \"Topic3\", \"Topic3\", \"Topic3\", \"Topic3\", \"Topic3\", \"Topic3\", \"Topic3\", \"Topic3\", \"Topic3\", \"Topic3\", \"Topic3\", \"Topic3\", \"Topic3\", \"Topic3\", \"Topic3\", \"Topic3\", \"Topic4\", \"Topic4\", \"Topic4\", \"Topic4\", \"Topic4\", \"Topic4\", \"Topic4\", \"Topic4\", \"Topic4\", \"Topic4\", \"Topic4\", \"Topic4\", \"Topic4\", \"Topic4\", \"Topic4\", \"Topic4\", \"Topic4\", \"Topic4\", \"Topic4\", \"Topic4\", \"Topic4\", \"Topic4\", \"Topic4\", \"Topic4\", \"Topic4\", \"Topic4\", \"Topic4\", \"Topic4\", \"Topic4\", \"Topic4\", \"Topic4\", \"Topic4\", \"Topic4\", \"Topic4\", \"Topic4\", \"Topic4\", \"Topic5\", \"Topic5\", \"Topic5\", \"Topic5\", \"Topic5\", \"Topic5\", \"Topic5\", \"Topic5\", \"Topic5\", \"Topic5\", \"Topic5\", \"Topic5\", \"Topic5\", \"Topic5\", \"Topic5\", \"Topic5\", \"Topic5\", \"Topic5\", \"Topic5\", \"Topic5\", \"Topic5\", \"Topic5\", \"Topic5\", \"Topic5\", \"Topic5\", \"Topic5\", \"Topic5\", \"Topic5\", \"Topic5\", \"Topic5\", \"Topic5\", \"Topic5\", \"Topic5\", \"Topic5\", \"Topic5\", \"Topic5\", \"Topic6\", \"Topic6\", \"Topic6\", \"Topic6\", \"Topic6\", \"Topic6\", \"Topic6\", \"Topic6\", \"Topic6\", \"Topic6\", \"Topic6\", \"Topic6\", \"Topic6\", \"Topic6\", \"Topic6\", \"Topic6\", \"Topic6\", \"Topic6\", \"Topic6\", \"Topic6\", \"Topic6\", \"Topic6\", \"Topic6\", \"Topic6\", \"Topic6\", \"Topic6\", \"Topic6\", \"Topic6\", \"Topic6\", \"Topic6\", \"Topic6\", \"Topic6\", \"Topic6\", \"Topic6\", \"Topic6\"], \"logprob\": [30.0, 29.0, 28.0, 27.0, 26.0, 25.0, 24.0, 23.0, 22.0, 21.0, 20.0, 19.0, 18.0, 17.0, 16.0, 15.0, 14.0, 13.0, 12.0, 11.0, 10.0, 9.0, 8.0, 7.0, 6.0, 5.0, 4.0, 3.0, 2.0, 1.0, -3.894, -3.894, -4.2735, -4.2735, -4.2735, -4.8926, -4.8926, -4.8926, -4.8926, -4.8926, -4.8926, -4.8926, -4.8926, -4.8926, -4.8926, -4.8926, -4.8926, -4.8926, -4.8926, -4.8926, -4.8926, -4.8926, -4.8926, -4.8926, -4.8926, -4.8926, -4.8926, -4.8926, -4.8926, -4.8926, -4.2735, -4.2735, -4.2735, -4.8925, -4.8925, -4.8925, -4.8925, -4.8925, -4.8925, -4.8925, -4.8925, -4.8925, -4.8925, -4.8925, -4.8925, -4.8926, -4.8926, -3.8206, -4.2001, -4.2001, -4.2001, -4.8191, -4.8191, -4.8191, -4.8191, -4.8191, -4.8191, -4.8191, -4.8191, -4.8191, -4.8191, -4.8191, -4.8191, -4.8191, -4.8191, -4.8191, -4.8191, -4.8191, -4.8191, -4.8191, -4.8191, -4.8191, -4.8191, -4.8191, -4.8191, -4.8191, -4.8191, -4.2001, -4.2001, -4.2001, -4.819, -4.8191, -4.8191, -4.8191, -4.8191, -4.8191, -4.8191, -4.8191, -4.8191, -4.8191, -4.8191, -3.9321, -3.9321, -3.9321, -3.9321, -4.5511, -4.5511, -4.5511, -4.5511, -4.5511, -4.5511, -4.5511, -4.5511, -4.5511, -4.5511, -4.5511, -4.5511, -4.5511, -4.5511, -4.5511, -4.5511, -4.5511, -4.5511, -4.5511, -4.5511, -4.5511, -4.5511, -4.5511, -4.5511, -4.5511, -4.5511, -4.5511, -4.5511, -4.5511, -4.5511, -4.5511, -3.8855, -3.8855, -3.8855, -4.5046, -4.5046, -4.5046, -4.5046, -4.5046, -4.5046, -4.5046, -4.5046, -4.5046, -4.5046, -4.5046, -4.5046, -4.5046, -4.5046, -4.5046, -4.5046, -4.5046, -4.5046, -4.5046, -4.5046, -4.5046, -4.5046, -4.5046, -4.5046, -4.5046, -4.5046, -4.5046, -3.8855, -3.8855, -4.5046, -4.5046, -4.5046, -4.5046, -3.8563, -3.86, -4.4753, -4.4753, -4.4753, -4.4753, -4.4753, -4.4753, -4.4753, -4.4753, -4.4753, -4.4753, -4.4753, -4.4753, -4.4753, -4.4753, -4.4753, -4.4753, -4.4753, -4.4753, -4.4753, -4.4754, -4.4754, -4.4754, -4.4755, -4.4755, -4.4755, -4.4755, -4.4755, -4.4755, -3.8604, -4.4754, -4.4754, -4.4754, -4.4754, -4.4754, -2.9612, -4.2341, -4.2341, -4.2341, -4.2341, -4.2341, -4.2341, -4.2341, -4.2341, -4.2341, -4.2341, -4.2341, -4.2341, -4.2341, -4.2341, -4.2341, -4.2342, -3.6151, -4.2341, -4.2341, -4.2341, -4.2341, -4.2341, -4.2341, -4.2341, -6.18, -6.18, -6.18, -6.18, -6.18, -6.1799, -6.1799, -6.1799, -6.1799, -6.1799], \"loglift\": [30.0, 29.0, 28.0, 27.0, 26.0, 25.0, 24.0, 23.0, 22.0, 21.0, 20.0, 19.0, 18.0, 17.0, 16.0, 15.0, 14.0, 13.0, 12.0, 11.0, 10.0, 9.0, 8.0, 7.0, 6.0, 5.0, 4.0, 3.0, 2.0, 1.0, 1.1466, 1.1466, 1.0714, 1.0714, 1.0714, 0.8919, 0.8919, 0.8919, 0.8919, 0.8919, 0.8919, 0.8919, 0.8919, 0.8919, 0.8919, 0.8919, 0.8919, 0.8919, 0.8919, 0.8919, 0.8919, 0.8919, 0.8919, 0.8919, 0.8919, 0.8919, 0.8919, 0.8919, 0.8919, 0.8919, 0.8191, 0.8191, 0.5492, 0.2236, -0.0593, 0.2236, 0.21, 0.218, 0.3442, 0.1171, -0.0176, 0.218, 0.5235, 0.2236, 0.5235, 0.6214, 0.6214, 1.2487, 1.1707, 1.1707, 1.1706, 0.9853, 0.9853, 0.9853, 0.9853, 0.9853, 0.9853, 0.9853, 0.9853, 0.9853, 0.9853, 0.9853, 0.9853, 0.9853, 0.9853, 0.9853, 0.9853, 0.9853, 0.9853, 0.9853, 0.9853, 0.9853, 0.9853, 0.9853, 0.9853, 0.9853, 0.9853, 0.8595, 0.6749, 0.6226, 0.2971, 0.1666, 0.2914, 0.6107, 0.297, 0.6296, 0.6107, 0.6107, 0.5386, 0.6107, 0.6107, 1.5605, 1.5605, 1.5605, 1.5605, 1.3459, 1.3459, 1.3459, 1.3459, 1.3459, 1.3459, 1.3459, 1.3459, 1.3459, 1.3459, 1.3459, 1.3459, 1.3459, 1.3459, 1.3459, 1.3459, 1.3459, 1.3459, 1.3459, 1.3459, 1.3459, 1.3459, 1.3459, 1.3459, 1.3459, 1.3459, 0.684, 0.8181, 0.9532, 0.9532, 1.0476, 1.6307, 1.6307, 1.6307, 1.4101, 1.4101, 1.4101, 1.4101, 1.4101, 1.4101, 1.4101, 1.4101, 1.4101, 1.4101, 1.4101, 1.4101, 1.4101, 1.4101, 1.4101, 1.4101, 1.4101, 1.4101, 1.4101, 1.4101, 1.4101, 1.4101, 1.4101, 1.4101, 1.4101, 1.4101, 1.4101, 1.1241, 0.9477, 0.9998, 0.9998, 0.9223, 1.0201, 1.677, 1.6731, 1.4521, 1.4521, 1.4521, 1.4521, 1.4521, 1.4521, 1.4521, 1.4521, 1.4521, 1.4521, 1.4521, 1.4521, 1.4521, 1.4521, 1.4521, 1.4521, 1.4521, 1.4521, 1.4521, 1.452, 1.452, 1.452, 1.4519, 1.4519, 1.4519, 1.4519, 1.4519, 1.4519, 1.3747, 0.7614, 0.6408, 0.6408, 0.9734, 0.3996, 2.0246, 1.8265, 1.8265, 1.8265, 1.8265, 1.8265, 1.8265, 1.8265, 1.8265, 1.8265, 1.8265, 1.8265, 1.8265, 1.8265, 1.8265, 1.8265, 1.8264, 1.7541, 1.3646, 1.295, 1.2798, 1.2798, 1.0026, 0.7755, 0.5991, -0.2526, -0.2526, -0.2526, -0.2526, -0.2526, -0.2828, -0.9448, -1.1393, -0.6637, -1.3572]}, \"token.table\": {\"Topic\": [1, 3, 3, 3, 5, 1, 3, 1, 3, 1, 2, 5, 4, 1, 2, 1, 3, 4, 1, 2, 4, 3, 5, 4, 5, 1, 5, 3, 1, 2, 1, 5, 2, 4, 5, 2, 4, 2, 3, 2, 3, 2, 2, 5, 5, 5, 1, 4, 2, 1, 5, 1, 3, 2, 3, 4, 4, 5, 5, 1, 2, 5, 2, 5, 3, 3, 5, 1, 4, 5, 1, 3, 1, 3, 4, 1, 1, 4, 2, 6, 3, 4, 3, 2, 1, 2, 4, 3, 4, 2, 3, 1, 2, 1, 2, 1, 4, 2, 1, 2, 4, 1, 2, 1, 2, 3, 3, 4, 2, 5, 2, 3, 1, 5, 4, 3, 5, 1, 2, 3, 4, 1, 2, 3, 1, 3, 3, 4, 1, 1, 4, 5, 1, 1, 2, 4, 1, 3, 1, 1, 4, 3, 2, 1, 1, 4, 3, 4, 2, 2, 5, 2, 4, 3, 1, 2, 5, 2, 3, 3, 3, 1, 2, 5, 3, 5, 3, 3, 1, 5, 5, 4, 2, 2, 3, 2, 1, 1, 2, 1, 4, 5, 2, 3, 2, 2, 3, 1, 2, 4, 4, 3, 5, 1, 5, 5, 3, 4, 5, 2, 5, 4, 4, 3, 6, 4, 3, 5, 3, 1, 2, 4, 4, 5, 5, 4, 2, 1, 3, 5, 2, 1, 4, 5, 5], \"Freq\": [0.4174711626180858, 0.4174711626180858, 0.9332279129609461, 0.9332279143582356, 0.6486530260419222, 0.8338256313036082, 0.9332280196385502, 0.8338256651261533, 0.9332279884363199, 0.427419018659753, 0.427419018659753, 0.427419018659753, 0.9498678884272929, 0.8338253154607898, 0.5513524114451401, 0.8338254339436948, 0.9332280512978461, 0.6376825941078177, 0.4039370936183744, 0.4039370936183744, 0.9498678314341111, 0.9332278135388179, 0.9619836007807434, 0.949867807281964, 0.9619844373291183, 0.8338256172690401, 0.9619847864685707, 0.6227733602767606, 0.544229005527227, 0.544229005527227, 0.8338255107120066, 0.96196131525157, 0.850665732378482, 0.9498677592711592, 0.9619848764212372, 0.8506657634978977, 0.9498677461460636, 0.5848906421080967, 0.5848906421080967, 0.8506659500863551, 0.9332279221422443, 0.8506659964662974, 0.5960570575455509, 0.5960570575455509, 0.9619848142978144, 0.961984764755679, 0.8338253613704171, 0.9498675895223918, 0.5513539033078385, 0.5372865116898166, 0.6485439290928801, 0.8338257253100053, 0.9332278791845201, 0.584890706432427, 0.584890706432427, 0.9498678405567392, 0.6430881129801322, 0.6430881129801322, 0.9619607257526938, 0.4274221077758388, 0.4274221077758388, 0.4274221077758388, 0.8506658277703272, 0.9619848441286218, 0.9332273173808344, 0.9332279137309907, 0.9619848967441438, 0.32208808258172106, 0.32208808258172106, 0.32208808258172106, 0.8338256382984315, 0.9332279501880104, 0.5768795837426952, 0.5768795837426952, 0.9498677391592237, 0.6362261946711266, 0.8338256334542695, 0.9498678616643262, 0.37516885777321063, 0.7503377155464213, 0.6301397226149945, 0.6301397226149945, 0.9332279794526795, 0.8506659627637448, 0.31872061834761456, 0.31872061834761456, 0.9498677135585958, 0.9332277326116537, 0.9498677468395023, 0.8506660347463634, 0.9332278576902294, 0.5372862914974712, 0.8506658458225492, 0.8338255986892723, 0.850665772129622, 0.8338254027315168, 0.9498676062728734, 0.8506658405722652, 0.8338253266030723, 0.8506659094393443, 0.9498676044648249, 0.8338256245986762, 0.8506658771386408, 0.8338254837261733, 0.6459834693926716, 0.6227732965727107, 0.9332278904929776, 0.949867656377784, 0.8506660020470869, 0.9619848511349602, 0.584890934910116, 0.584890934910116, 0.8338255106443281, 0.9619849302515263, 0.9498677312256898, 0.48140978557539094, 0.48140978557539094, 0.8338253723437492, 0.8506657787067379, 0.6301397815839173, 0.6301397815839173, 0.4216497101442747, 0.4216497101442747, 0.4216497101442747, 0.5768796206227873, 0.5768796206227873, 0.9332279514311977, 0.9498677077500624, 0.8338254119180969, 0.8338254815208428, 0.9498677860864781, 0.9619848859831264, 0.7926719726207646, 0.4250133986694729, 0.4250133986694729, 0.4250133986694729, 0.41747025918865444, 0.41747025918865444, 0.8338252318139039, 0.8338256014584954, 0.9498677308113395, 0.9332279715409223, 0.8506658820622285, 0.8338256319315305, 0.5831954863132579, 0.5831954863132579, 0.6301397641160266, 0.6301397641160266, 0.5513530175285087, 0.8506658775185312, 0.961984026879961, 0.8506656879252437, 0.9498677469951838, 0.933227886844576, 0.3358205991757318, 0.3358205991757318, 0.3358205991757318, 0.5848905205438931, 0.5848905205438931, 0.9332279436639401, 0.6227733024320138, 0.42742242519199297, 0.42742242519199297, 0.42742242519199297, 0.9332279492967721, 0.9619848875868341, 0.9332279407643527, 0.6925090156299387, 0.4821810912225827, 0.4821810912225827, 0.9619601068301722, 0.9498678578300126, 0.8506657220925704, 0.850665864644021, 0.9332280065285717, 0.8506658701874554, 0.6362262889646934, 0.8338256677137824, 0.8506661456693655, 0.8338253617153534, 0.949867909623702, 0.9619849535344046, 0.5848904260481947, 0.5848904260481947, 0.8506656434807969, 0.8506657609516551, 0.933227910240416, 0.5372875191300605, 0.8506659740721264, 0.9498678020804175, 0.9498677671476936, 0.9332280390070321, 0.9619848938706201, 0.7926711221654155, 0.96198474968009, 0.9619847998031507, 0.9332279385065652, 0.6376826768395806, 0.9619636519799684, 0.8156964481286252, 0.9619625344569244, 0.9498678187604732, 0.9498678903555754, 0.5505067769444767, 0.5505067769444767, 0.9498677258633544, 0.6227732492699363, 0.9619848429061316, 0.9332279790301365, 0.4250138778165826, 0.4250138778165826, 0.4250138778165826, 0.9498676541199078, 0.9619659568224947, 0.9619846718383196, 0.6376826287453728, 0.8506658394545763, 0.8338253320657849, 0.9332278412784508, 0.9619835260323943, 0.8506659726852929, 0.3842353662759254, 0.3842353662759254, 0.9619848428210498, 0.9619848090702978], \"Term\": [\"abuse\", \"abuse\", \"actuality\", \"actually\", \"ad\", \"adult\", \"ahahahaa\", \"ai\", \"ala\", \"alex\", \"alex\", \"alex\", \"allow\", \"ally\", \"alsatian\", \"alyssa\", \"america\", \"american\", \"anti\", \"anti\", \"anymore\", \"archetype\", \"attack\", \"authentic\", \"barton\", \"basketball\", \"bastad\", \"beatdown\", \"become\", \"become\", \"believe\", \"ben\", \"beware\", \"bk\", \"blog\", \"breed\", \"brother\", \"call\", \"call\", \"campaign\", \"cc\", \"check\", \"child\", \"child\", \"claim\", \"complaint\", \"court\", \"cry\", \"cyber\", \"day\", \"dem\", \"dj\", \"dude\", \"effort\", \"effort\", \"embrace\", \"enter\", \"enter\", \"even\", \"ever\", \"ever\", \"ever\", \"experience\", \"explain\", \"fail\", \"far\", \"fear\", \"feel\", \"feel\", \"feel\", \"follower\", \"force\", \"form\", \"form\", \"freedom\", \"fuck\", \"funny\", \"game\", \"get\", \"get\", \"gettin\", \"gettin\", \"ginge\", \"glenn\", \"go\", \"go\", \"hacer\", \"hacerle\", \"hair\", \"harassment\", \"hate\", \"hater\", \"hazing\", \"hell\", \"help\", \"ily\", \"inspirational\", \"invaluable\", \"jake\", \"job\", \"jongwoon\", \"jordan\", \"kelly\", \"kerry\", \"know\", \"kwangsoo\", \"language\", \"lebron\", \"legislation\", \"libel\", \"life\", \"life\", \"like\", \"lisa\", \"little\", \"lol\", \"lol\", \"long\", \"lot\", \"love\", \"love\", \"make\", \"make\", \"make\", \"man\", \"man\", \"marry\", \"melo\", \"michael\", \"mine\", \"mold\", \"ms\", \"need\", \"never\", \"never\", \"never\", \"nice\", \"nice\", \"nickname\", \"noah\", \"noona\", \"noooooo\", \"owner\", \"pass\", \"perfect\", \"perfect\", \"person\", \"person\", \"post\", \"project\", \"protractor\", \"publish\", \"pure\", \"quiero\", \"read\", \"read\", \"read\", \"real\", \"real\", \"realize\", \"remove\", \"response\", \"response\", \"response\", \"ridicule\", \"rudys\", \"run\", \"say\", \"school\", \"school\", \"schoolyard\", \"self\", \"shepher\", \"shepherd\", \"shit\", \"show\", \"shut\", \"simon\", \"single\", \"smexy\", \"society\", \"spark\", \"speak\", \"speak\", \"specific\", \"stand\", \"still\", \"stop\", \"stopping\", \"stylist\", \"sumtin\", \"super\", \"sweet\", \"take\", \"team\", \"television\", \"tellin\", \"think\", \"threatened\", \"time\", \"trippin\", \"true\", \"turn\", \"twitter\", \"twitter\", \"ugly\", \"underdog\", \"unfairly\", \"veganism\", \"video\", \"video\", \"video\", \"volverlo\", \"wall\", \"wanted\", \"watch\", \"weird\", \"well\", \"whore\", \"woo\", \"workplace\", \"wrong\", \"wrong\", \"yesterday\", \"zoey\"]}, \"R\": 30, \"lambda.step\": 0.01, \"plot.opts\": {\"xlab\": \"PC1\", \"ylab\": \"PC2\"}, \"topic.order\": [6, 3, 1, 4, 5, 2]};\n",
       "\n",
       "function LDAvis_load_lib(url, callback){\n",
       "  var s = document.createElement('script');\n",
       "  s.src = url;\n",
       "  s.async = true;\n",
       "  s.onreadystatechange = s.onload = callback;\n",
       "  s.onerror = function(){console.warn(\"failed to load library \" + url);};\n",
       "  document.getElementsByTagName(\"head\")[0].appendChild(s);\n",
       "}\n",
       "\n",
       "if(typeof(LDAvis) !== \"undefined\"){\n",
       "   // already loaded: just create the visualization\n",
       "   !function(LDAvis){\n",
       "       new LDAvis(\"#\" + \"ldavis_el17112210679651154480690153\", ldavis_el17112210679651154480690153_data);\n",
       "   }(LDAvis);\n",
       "}else if(typeof define === \"function\" && define.amd){\n",
       "   // require.js is available: use it to load d3/LDAvis\n",
       "   require.config({paths: {d3: \"https://d3js.org/d3.v5\"}});\n",
       "   require([\"d3\"], function(d3){\n",
       "      window.d3 = d3;\n",
       "      LDAvis_load_lib(\"https://cdn.jsdelivr.net/gh/bmabey/pyLDAvis@3.2.2/pyLDAvis/js/ldavis.v3.0.0.js\", function(){\n",
       "        new LDAvis(\"#\" + \"ldavis_el17112210679651154480690153\", ldavis_el17112210679651154480690153_data);\n",
       "      });\n",
       "    });\n",
       "}else{\n",
       "    // require.js not available: dynamically load d3 & LDAvis\n",
       "    LDAvis_load_lib(\"https://d3js.org/d3.v5.js\", function(){\n",
       "         LDAvis_load_lib(\"https://cdn.jsdelivr.net/gh/bmabey/pyLDAvis@3.2.2/pyLDAvis/js/ldavis.v3.0.0.js\", function(){\n",
       "                 new LDAvis(\"#\" + \"ldavis_el17112210679651154480690153\", ldavis_el17112210679651154480690153_data);\n",
       "            })\n",
       "         });\n",
       "}\n",
       "</script>"
      ],
      "text/plain": [
       "PreparedData(topic_coordinates=              x         y  topics  cluster       Freq\n",
       "topic                                                \n",
       "5     -0.109726  0.107094       1        1  26.393168\n",
       "2      0.134113  0.072528       2        1  23.645381\n",
       "0      0.011393 -0.072438       3        1  15.138863\n",
       "3     -0.035921 -0.081452       4        1  13.942243\n",
       "4      0.005725 -0.019469       5        1  13.192082\n",
       "1     -0.005584 -0.006263       6        1   7.688262, topic_info=         Term      Freq     Total Category  logprob  loglift\n",
       "186       get  2.000000  2.000000  Default  30.0000  30.0000\n",
       "96    twitter  1.000000  1.000000  Default  29.0000  29.0000\n",
       "35      wrong  2.000000  2.000000  Default  28.0000  28.0000\n",
       "29       feel  3.000000  3.000000  Default  27.0000  27.0000\n",
       "173       lol  2.000000  2.000000  Default  26.0000  26.0000\n",
       "..        ...       ...       ...      ...      ...      ...\n",
       "180      fail  0.062087  1.071550   Topic6  -6.1799  -0.2828\n",
       "173       lol  0.062086  2.077232   Topic6  -6.1799  -0.9448\n",
       "77       need  0.062084  2.523112   Topic6  -6.1799  -1.1393\n",
       "62   american  0.062084  1.568178   Topic6  -6.1799  -0.6637\n",
       "91         go  0.062084  3.137544   Topic6  -6.1799  -1.3572\n",
       "\n",
       "[263 rows x 6 columns], token_table=      Topic      Freq       Term\n",
       "term                            \n",
       "36        1  0.417471      abuse\n",
       "36        3  0.417471      abuse\n",
       "8         3  0.933228  actuality\n",
       "171       3  0.933228   actually\n",
       "237       5  0.648653         ad\n",
       "...     ...       ...        ...\n",
       "235       2  0.850666  workplace\n",
       "35        1  0.384235      wrong\n",
       "35        4  0.384235      wrong\n",
       "151       5  0.961985  yesterday\n",
       "152       5  0.961985       zoey\n",
       "\n",
       "[225 rows x 3 columns], R=30, lambda_step=0.01, plot_opts={'xlab': 'PC1', 'ylab': 'PC2'}, topic_order=[6, 3, 1, 4, 5, 2])"
      ]
     },
     "execution_count": 135,
     "metadata": {},
     "output_type": "execute_result"
    }
   ],
   "source": [
    "# Visualize the topics\n",
    "pyLDAvis.enable_notebook()\n",
    "vis = pyLDAvis.gensim.prepare(lda_model, corpus, id2word)\n",
    "vis"
   ]
  },
  {
   "cell_type": "code",
   "execution_count": 136,
   "id": "14d4e266",
   "metadata": {
    "scrolled": true
   },
   "outputs": [
    {
     "name": "stderr",
     "output_type": "stream",
     "text": [
      "C:\\Users\\erajkovic\\Anaconda3\\envs\\tensorflow_env\\lib\\site-packages\\smart_open\\smart_open_lib.py:402: UserWarning: This function is deprecated, use smart_open.open instead. See the migration notes for details: https://github.com/RaRe-Technologies/smart_open/blob/master/README.rst#migrating-to-the-new-open-function\n",
      "  if not hasattr(fobj, 'name'):\n"
     ]
    }
   ],
   "source": [
    "# Download File: http://mallet.cs.umass.edu/dist/mallet-2.0.8.zip\n",
    "os.environ['MALLET_HOME'] = 'C:/Users/erajkovic/Downloads/mallet-2.0.8/mallet-2.0.8'\n",
    "mallet_path = \"C:/Users/erajkovic/Downloads/mallet-2.0.8/mallet-2.0.8/bin/mallet\" # update this path\n",
    "ldamallet = gensim.models.wrappers.LdaMallet(mallet_path, corpus=corpus, num_topics=6, id2word=id2word)"
   ]
  },
  {
   "cell_type": "code",
   "execution_count": 137,
   "id": "7c25170c",
   "metadata": {},
   "outputs": [
    {
     "name": "stdout",
     "output_type": "stream",
     "text": [
      "[(0,\n",
      "  [('wrong', 0.06896551724137931),\n",
      "   ('read', 0.05172413793103448),\n",
      "   ('anti', 0.05172413793103448),\n",
      "   ('video', 0.05172413793103448),\n",
      "   ('nice', 0.05172413793103448),\n",
      "   ('time', 0.034482758620689655),\n",
      "   ('show', 0.017241379310344827),\n",
      "   ('easy', 0.017241379310344827),\n",
      "   ('mouth', 0.017241379310344827),\n",
      "   ('você', 0.017241379310344827)]),\n",
      " (1,\n",
      "  [('stop', 0.03333333333333333),\n",
      "   ('alex', 0.03333333333333333),\n",
      "   ('hater', 0.03333333333333333),\n",
      "   ('cyber', 0.03333333333333333),\n",
      "   ('wanted', 0.016666666666666666),\n",
      "   ('word', 0.016666666666666666),\n",
      "   ('reunion', 0.016666666666666666),\n",
      "   ('specific', 0.016666666666666666),\n",
      "   ('shepher', 0.016666666666666666),\n",
      "   ('trippin', 0.016666666666666666)]),\n",
      " (2,\n",
      "  [('abuse', 0.05454545454545454),\n",
      "   ('ad', 0.03636363636363636),\n",
      "   ('speak', 0.03636363636363636),\n",
      "   ('american', 0.03636363636363636),\n",
      "   ('post', 0.03636363636363636),\n",
      "   ('shepherd', 0.01818181818181818),\n",
      "   ('authentic', 0.01818181818181818),\n",
      "   ('embrace', 0.01818181818181818),\n",
      "   ('hay', 0.01818181818181818),\n",
      "   ('society', 0.01818181818181818)]),\n",
      " (3,\n",
      "  [('lol', 0.05263157894736842),\n",
      "   ('perfect', 0.03508771929824561),\n",
      "   ('love', 0.03508771929824561),\n",
      "   ('real', 0.03508771929824561),\n",
      "   ('ridicule', 0.017543859649122806),\n",
      "   ('call', 0.017543859649122806),\n",
      "   ('harassment', 0.017543859649122806),\n",
      "   ('wild', 0.017543859649122806),\n",
      "   ('legislation', 0.017543859649122806),\n",
      "   ('hombre', 0.017543859649122806)]),\n",
      " (4,\n",
      "  [('feel', 0.0847457627118644),\n",
      "   ('school', 0.05084745762711865),\n",
      "   ('dem', 0.03389830508474576),\n",
      "   ('underdog', 0.03389830508474576),\n",
      "   ('alsatian', 0.03389830508474576),\n",
      "   ('kwangsoo', 0.03389830508474576),\n",
      "   ('effort', 0.03389830508474576),\n",
      "   ('enter', 0.01694915254237288),\n",
      "   ('explain', 0.01694915254237288),\n",
      "   ('man', 0.01694915254237288)]),\n",
      " (5,\n",
      "  [('make', 0.06),\n",
      "   ('twitter', 0.06),\n",
      "   ('response', 0.06),\n",
      "   ('child', 0.04),\n",
      "   ('invaluable', 0.02),\n",
      "   ('shut', 0.02),\n",
      "   ('fuck', 0.02),\n",
      "   ('ai', 0.02),\n",
      "   ('veganism', 0.02),\n",
      "   ('simon', 0.02)])]\n",
      "\n",
      "Coherence Score:  0.7624858635953963\n"
     ]
    }
   ],
   "source": [
    "# Show Topics\n",
    "pprint(ldamallet.show_topics(formatted=False))\n",
    "\n",
    "# Compute Coherence Score\n",
    "coherence_model_ldamallet = CoherenceModel(model=ldamallet, texts=data_lemmatized, dictionary=id2word, coherence='c_v')\n",
    "coherence_ldamallet = coherence_model_ldamallet.get_coherence()\n",
    "print('\\nCoherence Score: ', coherence_ldamallet)"
   ]
  },
  {
   "cell_type": "code",
   "execution_count": 138,
   "id": "850cbf4a",
   "metadata": {},
   "outputs": [],
   "source": [
    "def compute_coherence_values(dictionary, corpus, texts, limit, start=2, step=3):\n",
    "    \"\"\"\n",
    "    Compute c_v coherence for various number of topics\n",
    "\n",
    "    Parameters:\n",
    "    ----------\n",
    "    dictionary : Gensim dictionary\n",
    "    corpus : Gensim corpus\n",
    "    texts : List of input texts\n",
    "    limit : Max num of topics\n",
    "\n",
    "    Returns:\n",
    "    -------\n",
    "    model_list : List of LDA topic models\n",
    "    coherence_values : Coherence values corresponding to the LDA model with respective number of topics\n",
    "    \"\"\"\n",
    "    coherence_values = []\n",
    "    model_list = []\n",
    "    for num_topics in range(start, limit, step):\n",
    "        model = gensim.models.wrappers.LdaMallet(mallet_path, corpus=corpus, num_topics=num_topics, id2word=id2word)\n",
    "        model_list.append(model)\n",
    "        coherencemodel = CoherenceModel(model=model, texts=texts, dictionary=dictionary, coherence='c_v')\n",
    "        coherence_values.append(coherencemodel.get_coherence())\n",
    "\n",
    "    return model_list, coherence_values"
   ]
  },
  {
   "cell_type": "code",
   "execution_count": 139,
   "id": "d1d58e0f",
   "metadata": {},
   "outputs": [
    {
     "name": "stderr",
     "output_type": "stream",
     "text": [
      "C:\\Users\\erajkovic\\Anaconda3\\envs\\tensorflow_env\\lib\\site-packages\\smart_open\\smart_open_lib.py:402: UserWarning: This function is deprecated, use smart_open.open instead. See the migration notes for details: https://github.com/RaRe-Technologies/smart_open/blob/master/README.rst#migrating-to-the-new-open-function\n",
      "  if not hasattr(fobj, 'name'):\n"
     ]
    }
   ],
   "source": [
    "\n",
    "model_list, coherence_values = compute_coherence_values(dictionary=id2word, corpus=corpus, texts=data_lemmatized, start=2, limit=20, step=6)"
   ]
  },
  {
   "cell_type": "code",
   "execution_count": 140,
   "id": "3721309c",
   "metadata": {},
   "outputs": [
    {
     "data": {
      "image/png": "[encoded data removed]",
      "text/plain": [
       "<Figure size 432x288 with 1 Axes>"
      ]
     },
     "metadata": {
      "needs_background": "light"
     },
     "output_type": "display_data"
    }
   ],
   "source": [
    "# Show graph\n",
    "limit=20; start=2; step=6;\n",
    "x = range(start, limit, step)\n",
    "plt.plot(x, coherence_values)\n",
    "plt.xlabel(\"Num Topics\")\n",
    "plt.ylabel(\"Coherence score\")\n",
    "plt.legend((\"coherence_values\"), loc='best')\n",
    "plt.show()"
   ]
  },
  {
   "cell_type": "code",
   "execution_count": 141,
   "id": "04989ac8",
   "metadata": {},
   "outputs": [
    {
     "name": "stdout",
     "output_type": "stream",
     "text": [
      "Num Topics = 2  has Coherence Value of 0.7758\n",
      "Num Topics = 8  has Coherence Value of 0.7858\n",
      "Num Topics = 14  has Coherence Value of 0.7778\n"
     ]
    }
   ],
   "source": [
    "# Print the coherence scores\n",
    "for m, cv in zip(x, coherence_values):\n",
    "    print(\"Num Topics =\", m, \" has Coherence Value of\", round(cv, 4))"
   ]
  },
  {
   "cell_type": "code",
   "execution_count": null,
   "id": "4e9d188b",
   "metadata": {},
   "outputs": [],
   "source": []
  }
 ],
 "metadata": {
  "kernelspec": {
   "display_name": "Python 3",
   "language": "python",
   "name": "python3"
  },
  "language_info": {
   "codemirror_mode": {
    "name": "ipython",
    "version": 3
   },
   "file_extension": ".py",
   "mimetype": "text/x-python",
   "name": "python",
   "nbconvert_exporter": "python",
   "pygments_lexer": "ipython3",
   "version": "3.6.13"
  }
 },
 "nbformat": 4,
 "nbformat_minor": 5
}
