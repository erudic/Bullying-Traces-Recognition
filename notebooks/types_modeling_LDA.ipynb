{
 "cells": [
  {
   "cell_type": "code",
   "execution_count": 1,
   "id": "150e5b34",
   "metadata": {},
   "outputs": [
    {
     "name": "stderr",
     "output_type": "stream",
     "text": [
      "Using TensorFlow backend.\n",
      "C:\\Users\\erajkovic\\Anaconda3\\envs\\tensorflow_env\\lib\\site-packages\\tensorflow\\python\\framework\\dtypes.py:516: FutureWarning: Passing (type, 1) or '1type' as a synonym of type is deprecated; in a future version of numpy, it will be understood as (type, (1,)) / '(1,)type'.\n",
      "  _np_qint8 = np.dtype([(\"qint8\", np.int8, 1)])\n",
      "C:\\Users\\erajkovic\\Anaconda3\\envs\\tensorflow_env\\lib\\site-packages\\tensorflow\\python\\framework\\dtypes.py:517: FutureWarning: Passing (type, 1) or '1type' as a synonym of type is deprecated; in a future version of numpy, it will be understood as (type, (1,)) / '(1,)type'.\n",
      "  _np_quint8 = np.dtype([(\"quint8\", np.uint8, 1)])\n",
      "C:\\Users\\erajkovic\\Anaconda3\\envs\\tensorflow_env\\lib\\site-packages\\tensorflow\\python\\framework\\dtypes.py:518: FutureWarning: Passing (type, 1) or '1type' as a synonym of type is deprecated; in a future version of numpy, it will be understood as (type, (1,)) / '(1,)type'.\n",
      "  _np_qint16 = np.dtype([(\"qint16\", np.int16, 1)])\n",
      "C:\\Users\\erajkovic\\Anaconda3\\envs\\tensorflow_env\\lib\\site-packages\\tensorflow\\python\\framework\\dtypes.py:519: FutureWarning: Passing (type, 1) or '1type' as a synonym of type is deprecated; in a future version of numpy, it will be understood as (type, (1,)) / '(1,)type'.\n",
      "  _np_quint16 = np.dtype([(\"quint16\", np.uint16, 1)])\n",
      "C:\\Users\\erajkovic\\Anaconda3\\envs\\tensorflow_env\\lib\\site-packages\\tensorflow\\python\\framework\\dtypes.py:520: FutureWarning: Passing (type, 1) or '1type' as a synonym of type is deprecated; in a future version of numpy, it will be understood as (type, (1,)) / '(1,)type'.\n",
      "  _np_qint32 = np.dtype([(\"qint32\", np.int32, 1)])\n",
      "C:\\Users\\erajkovic\\Anaconda3\\envs\\tensorflow_env\\lib\\site-packages\\tensorflow\\python\\framework\\dtypes.py:525: FutureWarning: Passing (type, 1) or '1type' as a synonym of type is deprecated; in a future version of numpy, it will be understood as (type, (1,)) / '(1,)type'.\n",
      "  np_resource = np.dtype([(\"resource\", np.ubyte, 1)])\n",
      "C:\\Users\\erajkovic\\Anaconda3\\envs\\tensorflow_env\\lib\\site-packages\\tensorboard\\compat\\tensorflow_stub\\dtypes.py:541: FutureWarning: Passing (type, 1) or '1type' as a synonym of type is deprecated; in a future version of numpy, it will be understood as (type, (1,)) / '(1,)type'.\n",
      "  _np_qint8 = np.dtype([(\"qint8\", np.int8, 1)])\n",
      "C:\\Users\\erajkovic\\Anaconda3\\envs\\tensorflow_env\\lib\\site-packages\\tensorboard\\compat\\tensorflow_stub\\dtypes.py:542: FutureWarning: Passing (type, 1) or '1type' as a synonym of type is deprecated; in a future version of numpy, it will be understood as (type, (1,)) / '(1,)type'.\n",
      "  _np_quint8 = np.dtype([(\"quint8\", np.uint8, 1)])\n",
      "C:\\Users\\erajkovic\\Anaconda3\\envs\\tensorflow_env\\lib\\site-packages\\tensorboard\\compat\\tensorflow_stub\\dtypes.py:543: FutureWarning: Passing (type, 1) or '1type' as a synonym of type is deprecated; in a future version of numpy, it will be understood as (type, (1,)) / '(1,)type'.\n",
      "  _np_qint16 = np.dtype([(\"qint16\", np.int16, 1)])\n",
      "C:\\Users\\erajkovic\\Anaconda3\\envs\\tensorflow_env\\lib\\site-packages\\tensorboard\\compat\\tensorflow_stub\\dtypes.py:544: FutureWarning: Passing (type, 1) or '1type' as a synonym of type is deprecated; in a future version of numpy, it will be understood as (type, (1,)) / '(1,)type'.\n",
      "  _np_quint16 = np.dtype([(\"quint16\", np.uint16, 1)])\n",
      "C:\\Users\\erajkovic\\Anaconda3\\envs\\tensorflow_env\\lib\\site-packages\\tensorboard\\compat\\tensorflow_stub\\dtypes.py:545: FutureWarning: Passing (type, 1) or '1type' as a synonym of type is deprecated; in a future version of numpy, it will be understood as (type, (1,)) / '(1,)type'.\n",
      "  _np_qint32 = np.dtype([(\"qint32\", np.int32, 1)])\n",
      "C:\\Users\\erajkovic\\Anaconda3\\envs\\tensorflow_env\\lib\\site-packages\\tensorboard\\compat\\tensorflow_stub\\dtypes.py:550: FutureWarning: Passing (type, 1) or '1type' as a synonym of type is deprecated; in a future version of numpy, it will be understood as (type, (1,)) / '(1,)type'.\n",
      "  np_resource = np.dtype([(\"resource\", np.ubyte, 1)])\n",
      "C:\\Users\\erajkovic\\Anaconda3\\envs\\tensorflow_env\\lib\\site-packages\\gensim\\utils.py:1197: UserWarning: detected Windows; aliasing chunkize to chunkize_serial\n",
      "  warnings.warn(\"detected Windows; aliasing chunkize to chunkize_serial\")\n"
     ]
    }
   ],
   "source": [
    "import pandas as pd\n",
    "import numpy as np\n",
    "import re\n",
    "from pprint import pprint\n",
    "import collections\n",
    "import matplotlib.pyplot as plt\n",
    "from pathlib import Path\n",
    "from sklearn.model_selection import train_test_split\n",
    "from keras.preprocessing.text import Tokenizer\n",
    "from keras.preprocessing.sequence import pad_sequences\n",
    "from keras.utils.np_utils import to_categorical\n",
    "from sklearn.preprocessing import LabelEncoder\n",
    "from keras import models\n",
    "from keras import layers\n",
    "import json\n",
    "from nltk.corpus import stopwords\n",
    "\n",
    "import gensim\n",
    "import gensim.corpora as corpora\n",
    "from gensim.utils import simple_preprocess\n",
    "from gensim.models import CoherenceModel\n",
    "\n",
    "# spacy for lemmatization\n",
    "import spacy\n",
    "\n",
    "# Plotting tools\n",
    "import pyLDAvis\n",
    "import pyLDAvis.gensim  # don't skip this\n",
    "import matplotlib.pyplot as plt\n",
    "%matplotlib inline\n",
    "\n",
    "# Enable logging for gensim - optional\n",
    "import logging\n",
    "logging.basicConfig(format='%(asctime)s : %(levelname)s : %(message)s', level=logging.ERROR)\n",
    "\n",
    "import warnings\n",
    "warnings.filterwarnings(\"ignore\",category=DeprecationWarning)\n",
    "\n",
    "import os"
   ]
  },
  {
   "cell_type": "code",
   "execution_count": 2,
   "id": "610687af",
   "metadata": {},
   "outputs": [
    {
     "name": "stdout",
     "output_type": "stream",
     "text": [
      "['i', 'me', 'my', 'myself', 'we', 'our', 'ours', 'ourselves', 'you', \"you're\", \"you've\", \"you'll\", \"you'd\", 'your', 'yours', 'yourself', 'yourselves', 'he', 'him', 'his', 'himself', 'she', \"she's\", 'her', 'hers', 'herself', 'it', \"it's\", 'its', 'itself', 'they', 'them', 'their', 'theirs', 'themselves', 'what', 'which', 'who', 'whom', 'this', 'that', \"that'll\", 'these', 'those', 'am', 'is', 'are', 'was', 'were', 'be', 'been', 'being', 'have', 'has', 'had', 'having', 'do', 'does', 'did', 'doing', 'a', 'an', 'the', 'and', 'but', 'if', 'or', 'because', 'as', 'until', 'while', 'of', 'at', 'by', 'for', 'with', 'about', 'against', 'between', 'into', 'through', 'during', 'before', 'after', 'above', 'below', 'to', 'from', 'up', 'down', 'in', 'out', 'on', 'off', 'over', 'under', 'again', 'further', 'then', 'once', 'here', 'there', 'when', 'where', 'why', 'how', 'all', 'any', 'both', 'each', 'few', 'more', 'most', 'other', 'some', 'such', 'no', 'nor', 'not', 'only', 'own', 'same', 'so', 'than', 'too', 'very', 's', 't', 'can', 'will', 'just', 'don', \"don't\", 'should', \"should've\", 'now', 'd', 'll', 'm', 'o', 're', 've', 'y', 'ain', 'aren', \"aren't\", 'couldn', \"couldn't\", 'didn', \"didn't\", 'doesn', \"doesn't\", 'hadn', \"hadn't\", 'hasn', \"hasn't\", 'haven', \"haven't\", 'isn', \"isn't\", 'ma', 'mightn', \"mightn't\", 'mustn', \"mustn't\", 'needn', \"needn't\", 'shan', \"shan't\", 'shouldn', \"shouldn't\", 'wasn', \"wasn't\", 'weren', \"weren't\", 'won', \"won't\", 'wouldn', \"wouldn't\", 'http']\n"
     ]
    }
   ],
   "source": [
    "from nltk.corpus import stopwords\n",
    "stop_words = stopwords.words('english')\n",
    "stop_words.extend(['http'])\n",
    "print(stop_words)"
   ]
  },
  {
   "cell_type": "code",
   "execution_count": 9,
   "id": "8480aab3",
   "metadata": {},
   "outputs": [
    {
     "name": "stdout",
     "output_type": "stream",
     "text": [
      "['self-disclosure' nan 'report' 'denial' 'accusation' 'cyberbullying']\n",
      "['self-disclosure' 'report' 'denial' 'accusation' 'cyberbullying']\n",
      "                Tweet ID    User ID Bullying_Traces?             Type  \\\n",
      "0     105730486382497793  322329899                y  self-disclosure   \n",
      "6     102533497637437441   70412906                y           report   \n",
      "7     103441158314790912  221102655                y  self-disclosure   \n",
      "15    103557373079199744  207378439                y  self-disclosure   \n",
      "20    101495938232750080  331380807                y  self-disclosure   \n",
      "...                  ...        ...              ...              ...   \n",
      "2430  102730819231166465    6872532                y           report   \n",
      "2434  104568731778285569  135040936                y           denial   \n",
      "2435  105430902951251969  148111013                y  self-disclosure   \n",
      "2436  107395299085008896  131482264                y  self-disclosure   \n",
      "2440  103657243970502656  219840796                y       accusation   \n",
      "\n",
      "               Form Teasing? Author_Role Emotion  \\\n",
      "0             other        n      victim    none   \n",
      "6             other        n    reporter    none   \n",
      "7             other        y      victim    none   \n",
      "15            other        n      victim    none   \n",
      "20            other        y       bully    none   \n",
      "...             ...      ...         ...     ...   \n",
      "2430          other        n    reporter    none   \n",
      "2434          other        n       bully    none   \n",
      "2435  cyberbullying        n      victim    none   \n",
      "2436          other        n      victim    none   \n",
      "2440          other        y     accuser    none   \n",
      "\n",
      "                                                   Text  \n",
      "0     @Underwalt @MsShandraRae @kateplusmy8 mr. walt...  \n",
      "6     @ninjacodemonkey totally.  on one hand the ret...  \n",
      "7     @lucy_robbo yes on thur, she said she might, w...  \n",
      "15    @BillyBlancO_ @DjLBully nigga used to be a rea...  \n",
      "20    @bbuk @brianofficial bobby needs threw out tha...  \n",
      "...                                                 ...  \n",
      "2430  @letzakis Tell me about it. They aren't as coo...  \n",
      "2434  #itreallymakesmemad when people bully , it ,ma...  \n",
      "2435  Ladies \"Bedroom Bully\" The Mix Cd By @GappyRan...  \n",
      "2436  people can really suck and we need to stop bul...  \n",
      "2440  Lhdab @ this child here...do ya homework jerk,...  \n",
      "\n",
      "[657 rows x 9 columns]\n"
     ]
    }
   ],
   "source": [
    "df = pd.read_csv('../data/english_labels_with_tweets.csv')\n",
    "print(df.Type.unique())\n",
    "types=['self-disclosure', 'report', 'denial', 'accusation', 'cyberbullying', 'other']\n",
    "\n",
    "df = df.loc[df['Type'].isin(types)]\n",
    "print(df.Type.unique())\n",
    "print(df)"
   ]
  },
  {
   "cell_type": "code",
   "execution_count": 10,
   "id": "8c82ad40",
   "metadata": {},
   "outputs": [
    {
     "name": "stdout",
     "output_type": "stream",
     "text": [
      "['mr. walt, stop being a bully.']\n"
     ]
    }
   ],
   "source": [
    "# Convert to list\n",
    "data = df.Text.values.tolist()\n",
    "\n",
    "# Remove Emails\n",
    "data = [re.sub('\\S*@\\S*\\s?', '', sent) for sent in data]\n",
    "\n",
    "# Remove new line characters\n",
    "data = [re.sub('\\s+', ' ', sent) for sent in data]\n",
    "\n",
    "# Remove distracting single quotes\n",
    "data = [re.sub(\"\\'\", \"\", sent) for sent in data]\n",
    "\n",
    "pprint(data[:1])"
   ]
  },
  {
   "cell_type": "code",
   "execution_count": 11,
   "id": "bccd211d",
   "metadata": {},
   "outputs": [
    {
     "name": "stdout",
     "output_type": "stream",
     "text": [
      "[['mr', 'walt', 'stop', 'being', 'bully']]\n"
     ]
    }
   ],
   "source": [
    "def sent_to_words(sentences):\n",
    "    for sentence in sentences:\n",
    "        yield(gensim.utils.simple_preprocess(str(sentence), deacc=False))  # deacc=True removes punctuations\n",
    "\n",
    "data_words = list(sent_to_words(data))\n",
    "\n",
    "print(data_words[:1])"
   ]
  },
  {
   "cell_type": "code",
   "execution_count": 12,
   "id": "9e352106",
   "metadata": {},
   "outputs": [
    {
     "name": "stderr",
     "output_type": "stream",
     "text": [
      "C:\\Users\\erajkovic\\Anaconda3\\envs\\tensorflow_env\\lib\\site-packages\\gensim\\models\\phrases.py:494: UserWarning: For a faster implementation, use the gensim.models.phrases.Phraser class\n",
      "  warnings.warn(\"For a faster implementation, use the gensim.models.phrases.Phraser class\")\n"
     ]
    },
    {
     "name": "stdout",
     "output_type": "stream",
     "text": [
      "['mr', 'walt', 'stop', 'being', 'bully']\n"
     ]
    }
   ],
   "source": [
    "# Build the bigram and trigram models\n",
    "bigram = gensim.models.Phrases(data_words, min_count=5, threshold=100) # higher threshold fewer phrases.\n",
    "trigram = gensim.models.Phrases(bigram[data_words], threshold=100)  \n",
    "\n",
    "# Faster way to get a sentence clubbed as a trigram/bigram\n",
    "bigram_mod = gensim.models.phrases.Phraser(bigram)\n",
    "trigram_mod = gensim.models.phrases.Phraser(trigram)\n",
    "\n",
    "# See trigram example\n",
    "print(trigram_mod[bigram_mod[data_words[0]]])"
   ]
  },
  {
   "cell_type": "code",
   "execution_count": 13,
   "id": "30f01500",
   "metadata": {},
   "outputs": [],
   "source": [
    "# Define functions for stopwords, bigrams, trigrams and lemmatization\n",
    "def remove_stopwords(texts):\n",
    "    return [[word for word in simple_preprocess(str(doc)) if word not in stop_words] for doc in texts]\n",
    "\n",
    "def make_bigrams(texts):\n",
    "    return [bigram_mod[doc] for doc in texts]\n",
    "\n",
    "def make_trigrams(texts):\n",
    "    return [trigram_mod[bigram_mod[doc]] for doc in texts]\n",
    "\n",
    "def lemmatization(texts, allowed_postags=['NOUN', 'ADJ', 'VERB', 'ADV']):\n",
    "    \"\"\"https://spacy.io/api/annotation\"\"\"\n",
    "    texts_out = []\n",
    "    for sent in texts:\n",
    "        doc = nlp(\" \".join(sent)) \n",
    "        texts_out.append([token.lemma_ for token in doc if token.pos_ in allowed_postags])\n",
    "    return texts_out"
   ]
  },
  {
   "cell_type": "code",
   "execution_count": 14,
   "id": "1119cb0b",
   "metadata": {},
   "outputs": [
    {
     "name": "stdout",
     "output_type": "stream",
     "text": [
      "[['mr', 'walt', 'stop', 'bully']]\n"
     ]
    }
   ],
   "source": [
    "# Remove Stop Words\n",
    "data_words_nostops = remove_stopwords(data_words)\n",
    "\n",
    "# Form Bigrams\n",
    "data_words_bigrams = make_bigrams(data_words_nostops)\n",
    "\n",
    "# Initialize spacy 'en' model, keeping only tagger component (for efficiency)\n",
    "# python3 -m spacy download en\n",
    "nlp = spacy.load('en_core_web_sm', disable=['parser', 'ner'])\n",
    "\n",
    "# Do lemmatization keeping only noun, adj, vb, adv\n",
    "data_lemmatized = lemmatization(data_words_bigrams, allowed_postags=['NOUN', 'ADJ', 'VERB', 'ADV'])\n",
    "\n",
    "print(data_lemmatized[:1])\n"
   ]
  },
  {
   "cell_type": "code",
   "execution_count": 15,
   "id": "09965d52",
   "metadata": {},
   "outputs": [
    {
     "name": "stdout",
     "output_type": "stream",
     "text": [
      "[[(0, 1), (1, 1), (2, 1), (3, 1)]]\n"
     ]
    },
    {
     "data": {
      "text/plain": [
       "[[('bully', 1), ('mr', 1), ('stop', 1), ('walt', 1)]]"
      ]
     },
     "execution_count": 15,
     "metadata": {},
     "output_type": "execute_result"
    }
   ],
   "source": [
    "# Create Dictionary\n",
    "id2word = corpora.Dictionary(data_lemmatized)\n",
    "\n",
    "# Create Corpus\n",
    "texts = data_lemmatized\n",
    "\n",
    "# Term Document Frequency\n",
    "corpus = [id2word.doc2bow(text) for text in texts]\n",
    "\n",
    "# View\n",
    "print(corpus[:1])\n",
    "# Human readable format of corpus (term-frequency)\n",
    "[[(id2word[id], freq) for id, freq in cp] for cp in corpus[:1]]"
   ]
  },
  {
   "cell_type": "code",
   "execution_count": 17,
   "id": "b8babbd9",
   "metadata": {},
   "outputs": [],
   "source": [
    "# Build LDA model\n",
    "lda_model = gensim.models.ldamodel.LdaModel(corpus=corpus,\n",
    "                                           id2word=id2word,\n",
    "                                           num_topics=5, \n",
    "                                           random_state=100,\n",
    "                                           update_every=1,\n",
    "                                           chunksize=100,\n",
    "                                           passes=10,\n",
    "                                           alpha='auto',\n",
    "                                           per_word_topics=True)"
   ]
  },
  {
   "cell_type": "code",
   "execution_count": 19,
   "id": "0fda6cab",
   "metadata": {},
   "outputs": [
    {
     "name": "stdout",
     "output_type": "stream",
     "text": [
      "[(0,\n",
      "  '0.073*\"bully\" + 0.023*\"co\" + 0.021*\"com\" + 0.015*\"time\" + 0.012*\"mean\" + '\n",
      "  '0.011*\"new\" + 0.010*\"head\" + 0.009*\"video\" + 0.009*\"person\" + '\n",
      "  '0.008*\"bedroom\"'),\n",
      " (1,\n",
      "  '0.092*\"bully\" + 0.017*\"hate\" + 0.015*\"do\" + 0.014*\"need\" + 0.012*\"well\" + '\n",
      "  '0.011*\"try\" + 0.010*\"shit\" + 0.010*\"name\" + 0.010*\"send\" + 0.010*\"girl\"'),\n",
      " (2,\n",
      "  '0.107*\"bully\" + 0.034*\"get\" + 0.022*\"stop\" + 0.020*\"m\" + 0.016*\"see\" + '\n",
      "  '0.015*\"do\" + 0.014*\"bullying\" + 0.013*\"ass\" + 0.010*\"feel\" + 0.010*\"know\"'),\n",
      " (3,\n",
      "  '0.067*\"bully\" + 0.027*\"school\" + 0.023*\"go\" + 0.019*\"lol\" + 0.015*\"give\" + '\n",
      "  '0.013*\"say\" + 0.012*\"s\" + 0.012*\"shit\" + 0.012*\"co\" + 0.012*\"bullying\"'),\n",
      " (4,\n",
      "  '0.057*\"bully\" + 0.035*\"people\" + 0.016*\"get\" + 0.015*\"make\" + 0.013*\"want\" '\n",
      "  '+ 0.012*\"s\" + 0.011*\"bullying\" + 0.009*\"stand\" + 0.007*\"man\" + '\n",
      "  '0.006*\"facebook\"')]\n"
     ]
    }
   ],
   "source": [
    "# Print the Keyword in the n topics\n",
    "pprint(lda_model.print_topics())\n",
    "doc_lda = lda_model[corpus]"
   ]
  },
  {
   "cell_type": "code",
   "execution_count": 20,
   "id": "56581998",
   "metadata": {},
   "outputs": [
    {
     "name": "stdout",
     "output_type": "stream",
     "text": [
      "\n",
      "Perplexity:  -7.332931519884429\n",
      "\n",
      "Coherence Score:  0.4594790364380124\n"
     ]
    }
   ],
   "source": [
    "# Compute Perplexity\n",
    "print('\\nPerplexity: ', lda_model.log_perplexity(corpus))  # a measure of how good the model is. lower the better.\n",
    "\n",
    "# Compute Coherence Score\n",
    "coherence_model_lda = CoherenceModel(model=lda_model, texts=data_lemmatized, dictionary=id2word, coherence='c_v')\n",
    "coherence_lda = coherence_model_lda.get_coherence()\n",
    "print('\\nCoherence Score: ', coherence_lda)"
   ]
  },
  {
   "cell_type": "code",
   "execution_count": 21,
   "id": "7fecc337",
   "metadata": {},
   "outputs": [
    {
     "data": {
      "text/html": [
       "\n",
       "<link rel=\"stylesheet\" type=\"text/css\" href=\"https://cdn.jsdelivr.net/gh/bmabey/pyLDAvis@3.2.2/pyLDAvis/js/ldavis.v1.0.0.css\">\n",
       "\n",
       "\n",
       "<div id=\"ldavis_el2022419547259360089224244933\"></div>\n",
       "<script type=\"text/javascript\">\n",
       "\n",
       "var ldavis_el2022419547259360089224244933_data = {\"mdsDat\": {\"x\": [0.16937814913286073, 0.06585313355399289, -0.04329143276926981, -0.14988714510727585, -0.042052704810307776], \"y\": [0.048768002719214255, -0.09429645355648725, 0.16577052936244704, -0.0006437832390916704, -0.11959829528608233], \"topics\": [1, 2, 3, 4, 5], \"cluster\": [1, 1, 1, 1, 1], \"Freq\": [28.031623368838293, 21.87561810263796, 17.786705786014036, 16.753127781154838, 15.552924961354869]}, \"tinfo\": {\"Term\": [\"people\", \"school\", \"go\", \"stop\", \"get\", \"com\", \"m\", \"lol\", \"hate\", \"give\", \"time\", \"s\", \"make\", \"see\", \"do\", \"need\", \"ass\", \"shit\", \"say\", \"well\", \"want\", \"mean\", \"bullying\", \"new\", \"try\", \"name\", \"co\", \"even\", \"send\", \"never\", \"stop\", \"ass\", \"never\", \"cyber\", \"child\", \"tell\", \"think\", \"re\", \"life\", \"watch\", \"little\", \"talk\", \"problem\", \"ve\", \"back\", \"book\", \"real\", \"sign\", \"cause\", \"beat\", \"play\", \"victim\", \"brain\", \"alex\", \"ugly\", \"today\", \"health\", \"amazing\", \"feel\", \"tweet\", \"see\", \"use\", \"get\", \"love\", \"m\", \"friend\", \"bully\", \"do\", \"twitter\", \"bullying\", \"know\", \"make\", \"good\", \"take\", \"school\", \"co\", \"kid\", \"go\", \"give\", \"even\", \"remember\", \"mom\", \"day\", \"attack\", \"always\", \"live\", \"th_grade\", \"hope\", \"dad\", \"fun\", \"thank\", \"ect\", \"hahaha\", \"rebecca_black\", \"wit\", \"right\", \"form\", \"park\", \"mess\", \"giveashit\", \"sad\", \"dude\", \"lmao\", \"sick\", \"tonight\", \"suck\", \"be\", \"kick\", \"say\", \"lol\", \"school\", \"high\", \"s\", \"shit\", \"much\", \"bully\", \"bullying\", \"m\", \"co\", \"people\", \"kid\", \"get\", \"hate\", \"need\", \"well\", \"try\", \"send\", \"name\", \"abuse\", \"brother\", \"read\", \"old\", \"year\", \"ask\", \"small\", \"dog\", \"wanna\", \"job\", \"wrong\", \"www\", \"beatdown\", \"stuff\", \"dnt\", \"gang\", \"hbhliveapparel\", \"messg\", \"positive\", \"sure\", \"really\", \"reporter\", \"neighborhood\", \"post\", \"bad\", \"thing\", \"come\", \"girl\", \"bully\", \"bitch\", \"do\", \"shit\", \"know\", \"good\", \"nice\", \"anti\", \"call\", \"com\", \"time\", \"mean\", \"new\", \"head\", \"person\", \"bedroom\", \"boy\", \"yfrog\", \"fuck\", \"drug\", \"cd\", \"mix\", \"fb\", \"face\", \"like\", \"look\", \"check\", \"tall\", \"lady\", \"message\", \"news\", \"law\", \"teen\", \"playground\", \"friday\", \"shut\", \"glad\", \"affect\", \"type\", \"video\", \"power\", \"co\", \"bully\", \"want\", \"stand\", \"man\", \"let\", \"bring\", \"point\", \"radio\", \"perfect\", \"police\", \"facebook\", \"self\", \"happen\", \"bull\", \"medical\", \"also\", \"world\", \"son\", \"hurt\", \"join\", \"cute\", \"reason\", \"pick\", \"aug\", \"fan\", \"bullet\", \"listen\", \"lately\", \"rude\", \"monster\", \"burn\", \"other\", \"people\", \"make\", \"s\", \"bully\", \"great\", \"get\", \"bullying\", \"say\", \"friend\"], \"Freq\": [42.0, 47.0, 28.0, 34.0, 76.0, 20.0, 43.0, 31.0, 17.0, 18.0, 14.0, 25.0, 25.0, 30.0, 42.0, 14.0, 20.0, 24.0, 20.0, 12.0, 11.0, 11.0, 45.0, 11.0, 11.0, 10.0, 56.0, 12.0, 10.0, 14.0, 33.80477884302251, 20.055818424944075, 14.147085188623038, 13.988473325006257, 13.957166275005516, 13.406475569599072, 12.932977255158425, 10.968021447269262, 10.137693141775252, 8.75018652349225, 8.97597987855796, 9.073185379797598, 9.125952218593426, 8.309567200528628, 8.30472249282811, 7.10012006268025, 6.986608655385366, 7.005183051834531, 6.944457308981898, 6.711679639093413, 6.07629452262178, 5.856502928448252, 5.558336185869265, 5.395822707031406, 5.382686026145068, 5.5079840982587935, 5.52232091410457, 5.177043715416414, 16.170012402480545, 5.064249130812236, 25.38502875429917, 11.088029150706584, 53.2303088332322, 10.844600509322865, 30.707137470573016, 12.202353917498312, 166.59126156190726, 23.681016679599963, 8.77789063439304, 21.602688484574113, 15.171378473588776, 11.95163830282241, 9.8603269283349, 8.165401848351202, 14.339690377172397, 13.97669136659902, 9.37328356129321, 27.574298225183927, 17.70979630025173, 11.470754575395011, 10.290093653319916, 8.170114679709762, 7.713660925775927, 7.26392846873819, 7.154904456159999, 7.532006222955565, 6.477082429859905, 6.357652414453757, 6.25602606635339, 5.716181331568524, 5.7732318352351495, 5.515921717306303, 5.032461854599698, 5.004943808459306, 4.779982368630896, 4.337907217594628, 4.056514288874681, 3.819798913999261, 3.8780289643048618, 3.5524367984972214, 3.690550550138587, 3.501945421721718, 3.465852424673656, 3.294866756518588, 3.3328320543035326, 3.331440613058754, 8.36772702403014, 5.7919587979699525, 15.921907593693867, 22.97962079711604, 32.934499444263416, 5.687461419224013, 14.86814724324714, 14.479592431744805, 6.613957304372671, 81.29164888780991, 13.999945541838105, 12.797172993858169, 14.231678003163442, 12.225302790878251, 7.167474609228565, 9.478645803129382, 16.66942772644706, 13.79397828381187, 11.98138422665061, 10.78987149600053, 9.573531831411612, 9.781763271820868, 8.618656471656196, 7.38025796737659, 7.405978042430516, 6.8499802397687715, 6.3034752774979435, 6.037017836018982, 5.765456534124636, 5.919998891422773, 5.626715974929546, 4.834794762943531, 4.816785380962916, 4.6283969265416385, 4.5392509681440565, 4.537412769789394, 4.516236963649733, 4.220539717650444, 4.220539717650444, 4.220539717650444, 4.220539717650444, 3.6577723739597605, 6.931676004584944, 3.258021890879121, 3.0474273479361953, 2.9608236716169762, 7.0686674957629885, 9.005750446795256, 8.115758297347003, 9.47530376727172, 90.73297827214647, 5.036477420711606, 14.619592601155938, 9.789268597569876, 8.65271712479824, 6.027920109495852, 5.043206301766941, 4.8631202923511925, 4.896128839961573, 19.75051047383811, 14.17442373188973, 11.154847799611892, 10.53067549381481, 8.9530101060233, 8.45767404164571, 7.790919532774101, 7.387811010646282, 5.085350240958517, 5.357024367693759, 5.033920293691169, 4.352528450019496, 4.352528450019496, 4.410561101037897, 3.924306891662494, 3.805968854004999, 3.8081083065771058, 3.787586611729406, 3.6671329220441944, 3.4517319369911514, 3.645065922759805, 3.3893537393042434, 3.732223516317261, 3.5865669974399386, 3.025214281243913, 2.947523246033426, 3.0877281420338463, 2.917522659829392, 2.7993659390464343, 2.713188927917861, 8.583526127535825, 4.30835550510535, 21.646051605135405, 67.46602361722024, 10.816805597751292, 7.568543846465455, 6.322977717433711, 5.30045321478145, 5.291535486735679, 4.954355538513325, 4.871489525178739, 4.574590405768229, 4.577481697269509, 5.379012220170333, 4.761287409272999, 4.3460345558030085, 4.309141965496347, 4.348995749308071, 4.269734509996131, 4.094485365685536, 3.8866349713234785, 4.038484219000052, 3.5985704206783775, 3.4334112690516982, 3.3389105894438638, 3.2991279128428843, 3.2925824338335254, 2.803212365232245, 2.752332745530792, 2.967432058032226, 2.6318865713178567, 2.860480787038027, 2.612698471279558, 2.461639236766423, 5.1146802032807015, 30.253387976185255, 12.666276831185437, 10.140171074034077, 49.107215025453215, 3.9213533682711117, 13.8323675958017, 9.418107479100001, 4.322556320716472, 3.3675790483112515], \"Total\": [42.0, 47.0, 28.0, 34.0, 76.0, 20.0, 43.0, 31.0, 17.0, 18.0, 14.0, 25.0, 25.0, 30.0, 42.0, 14.0, 20.0, 24.0, 20.0, 12.0, 11.0, 11.0, 45.0, 11.0, 11.0, 10.0, 56.0, 12.0, 10.0, 14.0, 34.37399364050752, 20.62778673605066, 14.711085780624888, 14.555087457165643, 14.5227896176276, 13.984090304096062, 13.498212040374, 11.528044122526971, 10.694124533781682, 9.311762123638465, 9.553969455663594, 9.662169149123775, 9.718785485163375, 8.87159963970948, 8.872772547128037, 7.658680424737784, 7.549052628636364, 7.571351615677758, 7.531624369317034, 7.2871683803298355, 6.632220723982125, 6.414634684132582, 6.115186603448405, 5.952650406070706, 5.941789758954919, 6.094119598806767, 6.1292222240746135, 5.752543072138167, 18.027475088416015, 5.650585062721654, 30.276763731425664, 12.782762956195807, 76.81989906706012, 13.266340602206306, 43.908532426610286, 16.012412230250444, 455.1891273645371, 42.07132854196695, 11.56947174592858, 45.300382102598036, 29.705046290449303, 25.050082553846398, 16.314590477680063, 10.916239202328589, 47.68633538011494, 56.32715577283866, 16.943077675842588, 28.145352109068302, 18.274897584769647, 12.048238348863219, 10.860388808888922, 8.729245773269302, 8.276523546426803, 7.824471062032329, 7.725142375284928, 8.14604285164932, 7.039088192025265, 6.92641002043206, 6.831967862565513, 6.293039909639577, 6.359039572680405, 6.099787764158742, 5.585367206083671, 5.558469053418733, 5.3500737647942715, 4.908888272469017, 4.631062321380806, 4.3767624931117535, 4.457792742795555, 4.105133799826581, 4.276338744564212, 4.063660432809369, 4.027958917369403, 3.8480414984318307, 3.898271431350322, 3.8984861059875584, 9.86560443446568, 6.944231546371997, 20.684644273102467, 31.93284375381076, 47.68633538011494, 6.971778636917231, 25.43975486929483, 24.69197087911125, 9.901877214788211, 455.1891273645371, 45.300382102598036, 43.908532426610286, 56.32715577283866, 42.9147564671114, 16.943077675842588, 76.81989906706012, 17.254299664847686, 14.379711485796301, 12.564715214210327, 11.395284084400922, 10.157018084025735, 10.379734082698056, 9.203330327842908, 7.970760283398491, 8.004911705420987, 7.429165091537185, 6.898034019165091, 6.621852563417708, 6.359315862910838, 6.538489659851544, 6.22368887235354, 5.412697881671564, 5.406795098996477, 5.210181569246712, 5.11648157809895, 5.12287174494727, 5.100696799350798, 4.806533083690954, 4.806533083690954, 4.806533083690954, 4.806533083690954, 4.248961031986578, 8.16981009597887, 3.859381974553712, 3.6255870195783966, 3.538955865480361, 8.934307287923454, 11.918527970302996, 11.30629732376, 14.343075918742889, 455.1891273645371, 6.510679452219768, 42.07132854196695, 24.69197087911125, 29.705046290449303, 16.314590477680063, 9.732251588621338, 12.039491034895432, 14.548691347330854, 20.338332458231466, 14.756172820883421, 11.76189179498222, 11.127567028774079, 9.533017303813034, 9.06608483575426, 8.361931960015278, 7.979221278210829, 5.656512566325358, 5.959998735463172, 5.657426122218837, 4.923349889969507, 4.923349889969507, 4.996536450532733, 4.497640309627707, 4.380156458465945, 4.384945684363989, 4.3659461160602415, 4.265592884911503, 4.022571863986495, 4.263238087412078, 3.9648697156760155, 4.3706965423390365, 4.2040042615867, 3.6029494691216426, 3.5297383605333157, 3.6977716027468093, 3.5301216194835012, 3.388977840875439, 3.290082958515893, 12.146838836850447, 6.089829850016242, 56.32715577283866, 455.1891273645371, 11.414155368011226, 8.15603029912547, 6.930143386524433, 5.8883781029573266, 5.882338466678368, 5.5448956326832475, 5.456308764918963, 5.156219735489694, 5.161015380165167, 6.073044230063524, 5.385505097487386, 4.932407244348768, 4.891615834023275, 4.942744471813764, 4.87358738791636, 4.67881690811015, 4.467953596615239, 4.643309524148558, 4.19343450637974, 4.015090841485444, 3.921062666522782, 3.8899724909085474, 3.900315560498726, 3.3842589468966278, 3.337353655361574, 3.610317120824716, 3.2123538984317737, 3.5148170664259664, 3.21549284994728, 3.044934156273029, 6.326981673579318, 42.9147564671114, 25.050082553846398, 25.43975486929483, 455.1891273645371, 6.148439265005434, 76.81989906706012, 45.300382102598036, 20.684644273102467, 16.012412230250444], \"Category\": [\"Default\", \"Default\", \"Default\", \"Default\", \"Default\", \"Default\", \"Default\", \"Default\", \"Default\", \"Default\", \"Default\", \"Default\", \"Default\", \"Default\", \"Default\", \"Default\", \"Default\", \"Default\", \"Default\", \"Default\", \"Default\", \"Default\", \"Default\", \"Default\", \"Default\", \"Default\", \"Default\", \"Default\", \"Default\", \"Default\", \"Topic1\", \"Topic1\", \"Topic1\", \"Topic1\", \"Topic1\", \"Topic1\", \"Topic1\", \"Topic1\", \"Topic1\", \"Topic1\", \"Topic1\", \"Topic1\", \"Topic1\", \"Topic1\", \"Topic1\", \"Topic1\", \"Topic1\", \"Topic1\", \"Topic1\", \"Topic1\", \"Topic1\", \"Topic1\", \"Topic1\", \"Topic1\", \"Topic1\", \"Topic1\", \"Topic1\", \"Topic1\", \"Topic1\", \"Topic1\", \"Topic1\", \"Topic1\", \"Topic1\", \"Topic1\", \"Topic1\", \"Topic1\", \"Topic1\", \"Topic1\", \"Topic1\", \"Topic1\", \"Topic1\", \"Topic1\", \"Topic1\", \"Topic1\", \"Topic1\", \"Topic1\", \"Topic1\", \"Topic2\", \"Topic2\", \"Topic2\", \"Topic2\", \"Topic2\", \"Topic2\", \"Topic2\", \"Topic2\", \"Topic2\", \"Topic2\", \"Topic2\", \"Topic2\", \"Topic2\", \"Topic2\", \"Topic2\", \"Topic2\", \"Topic2\", \"Topic2\", \"Topic2\", \"Topic2\", \"Topic2\", \"Topic2\", \"Topic2\", \"Topic2\", \"Topic2\", \"Topic2\", \"Topic2\", \"Topic2\", \"Topic2\", \"Topic2\", \"Topic2\", \"Topic2\", \"Topic2\", \"Topic2\", \"Topic2\", \"Topic2\", \"Topic2\", \"Topic2\", \"Topic2\", \"Topic2\", \"Topic2\", \"Topic2\", \"Topic2\", \"Topic2\", \"Topic2\", \"Topic3\", \"Topic3\", \"Topic3\", \"Topic3\", \"Topic3\", \"Topic3\", \"Topic3\", \"Topic3\", \"Topic3\", \"Topic3\", \"Topic3\", \"Topic3\", \"Topic3\", \"Topic3\", \"Topic3\", \"Topic3\", \"Topic3\", \"Topic3\", \"Topic3\", \"Topic3\", \"Topic3\", \"Topic3\", \"Topic3\", \"Topic3\", \"Topic3\", \"Topic3\", \"Topic3\", \"Topic3\", \"Topic3\", \"Topic3\", \"Topic3\", \"Topic3\", \"Topic3\", \"Topic3\", \"Topic3\", \"Topic3\", \"Topic3\", \"Topic3\", \"Topic3\", \"Topic3\", \"Topic3\", \"Topic3\", \"Topic3\", \"Topic4\", \"Topic4\", \"Topic4\", \"Topic4\", \"Topic4\", \"Topic4\", \"Topic4\", \"Topic4\", \"Topic4\", \"Topic4\", \"Topic4\", \"Topic4\", \"Topic4\", \"Topic4\", \"Topic4\", \"Topic4\", \"Topic4\", \"Topic4\", \"Topic4\", \"Topic4\", \"Topic4\", \"Topic4\", \"Topic4\", \"Topic4\", \"Topic4\", \"Topic4\", \"Topic4\", \"Topic4\", \"Topic4\", \"Topic4\", \"Topic4\", \"Topic4\", \"Topic4\", \"Topic4\", \"Topic5\", \"Topic5\", \"Topic5\", \"Topic5\", \"Topic5\", \"Topic5\", \"Topic5\", \"Topic5\", \"Topic5\", \"Topic5\", \"Topic5\", \"Topic5\", \"Topic5\", \"Topic5\", \"Topic5\", \"Topic5\", \"Topic5\", \"Topic5\", \"Topic5\", \"Topic5\", \"Topic5\", \"Topic5\", \"Topic5\", \"Topic5\", \"Topic5\", \"Topic5\", \"Topic5\", \"Topic5\", \"Topic5\", \"Topic5\", \"Topic5\", \"Topic5\", \"Topic5\", \"Topic5\", \"Topic5\", \"Topic5\", \"Topic5\", \"Topic5\", \"Topic5\", \"Topic5\"], \"logprob\": [30.0, 29.0, 28.0, 27.0, 26.0, 25.0, 24.0, 23.0, 22.0, 21.0, 20.0, 19.0, 18.0, 17.0, 16.0, 15.0, 14.0, 13.0, 12.0, 11.0, 10.0, 9.0, 8.0, 7.0, 6.0, 5.0, 4.0, 3.0, 2.0, 1.0, -3.8286, -4.3507, -4.6997, -4.7109, -4.7132, -4.7534, -4.7894, -4.9542, -5.0329, -5.1801, -5.1546, -5.1439, -5.1381, -5.2318, -5.2324, -5.3891, -5.4052, -5.4025, -5.4112, -5.4453, -5.5448, -5.5816, -5.6339, -5.6636, -5.666, -5.643, -5.6404, -5.7049, -4.566, -5.727, -4.115, -4.9433, -3.3745, -4.9655, -3.9247, -4.8475, -2.2336, -4.1845, -5.1769, -4.2764, -4.6298, -4.8683, -5.0607, -5.2493, -4.6861, -4.7118, -5.1113, -3.7843, -4.2271, -4.6614, -4.77, -5.0007, -5.0582, -5.1183, -5.1334, -5.0821, -5.2329, -5.2516, -5.2677, -5.3579, -5.348, -5.3936, -5.4853, -5.4908, -5.5368, -5.6338, -5.7009, -5.761, -5.7459, -5.8336, -5.7954, -5.8479, -5.8583, -5.9088, -5.8974, -5.8978, -4.9768, -5.3447, -4.3335, -3.9666, -3.6067, -5.363, -4.402, -4.4285, -5.212, -2.7032, -4.4622, -4.552, -4.4457, -4.5977, -5.1317, -4.8522, -4.0807, -4.2701, -4.4109, -4.5157, -4.6353, -4.6138, -4.7404, -4.8955, -4.892, -4.97, -5.0532, -5.0964, -5.1424, -5.116, -5.1668, -5.3185, -5.3222, -5.3621, -5.3815, -5.3819, -5.3866, -5.4543, -5.4543, -5.4543, -5.4543, -5.5974, -4.9582, -5.7132, -5.78, -5.8088, -4.9386, -4.6964, -4.8005, -4.6456, -2.3864, -5.2776, -4.2119, -4.613, -4.7364, -5.0979, -5.2763, -5.3126, -5.3058, -3.8512, -4.183, -4.4226, -4.4801, -4.6424, -4.6994, -4.7815, -4.8346, -5.2081, -5.156, -5.2182, -5.3637, -5.3637, -5.3504, -5.4672, -5.4979, -5.4973, -5.5027, -5.535, -5.5956, -5.5411, -5.6138, -5.5174, -5.5572, -5.7274, -5.7535, -5.707, -5.7637, -5.805, -5.8363, -4.6846, -5.3739, -3.7596, -2.6228, -4.379, -4.7361, -4.9159, -5.0923, -5.094, -5.1598, -5.1767, -5.2396, -5.2389, -5.0776, -5.1996, -5.2908, -5.2994, -5.2901, -5.3085, -5.3505, -5.4025, -5.3642, -5.4796, -5.5265, -5.5544, -5.5664, -5.5684, -5.7293, -5.7476, -5.6724, -5.7924, -5.7091, -5.7997, -5.8593, -5.128, -3.3505, -4.2211, -4.4436, -2.8661, -5.3937, -4.1331, -4.5175, -5.2962, -5.5459], \"loglift\": [30.0, 29.0, 28.0, 27.0, 26.0, 25.0, 24.0, 23.0, 22.0, 21.0, 20.0, 19.0, 18.0, 17.0, 16.0, 15.0, 14.0, 13.0, 12.0, 11.0, 10.0, 9.0, 8.0, 7.0, 6.0, 5.0, 4.0, 3.0, 2.0, 1.0, 1.2551, 1.2437, 1.2327, 1.2321, 1.2321, 1.2297, 1.2291, 1.222, 1.2184, 1.2096, 1.2094, 1.2089, 1.2089, 1.2064, 1.2057, 1.1961, 1.1944, 1.1941, 1.1907, 1.1896, 1.1843, 1.1808, 1.1764, 1.1736, 1.173, 1.1707, 1.1676, 1.1664, 1.1631, 1.1623, 1.0956, 1.1296, 0.905, 1.0703, 0.9142, 1.0001, 0.2667, 0.6971, 0.9957, 0.5313, 0.5999, 0.5318, 0.7683, 0.9815, 0.0702, -0.1219, 0.6798, 1.4993, 1.4884, 1.4707, 1.4659, 1.4536, 1.4494, 1.4455, 1.4431, 1.4414, 1.4366, 1.4341, 1.4317, 1.4237, 1.4232, 1.4192, 1.4156, 1.4149, 1.4071, 1.3961, 1.3873, 1.3837, 1.3805, 1.3752, 1.3725, 1.371, 1.3695, 1.3646, 1.3631, 1.3626, 1.3551, 1.3384, 1.2581, 1.1908, 1.1497, 1.3162, 0.9827, 0.9861, 1.1163, -0.2029, 0.3455, 0.2869, 0.1441, 0.2641, 0.6595, -0.5726, 1.6922, 1.6851, 1.6792, 1.6721, 1.6676, 1.6674, 1.6611, 1.6497, 1.649, 1.6456, 1.6366, 1.6343, 1.6287, 1.6273, 1.6259, 1.6138, 1.6112, 1.6083, 1.607, 1.6054, 1.605, 1.5967, 1.5967, 1.5967, 1.5967, 1.5769, 1.5624, 1.5573, 1.553, 1.5484, 1.4925, 1.4465, 1.3952, 1.3121, 0.1139, 1.47, 0.6697, 0.8015, 0.4933, 0.7311, 1.0693, 0.8202, 0.6377, 1.7573, 1.7464, 1.7336, 1.7315, 1.7238, 1.7171, 1.7159, 1.7096, 1.6801, 1.6799, 1.6698, 1.6634, 1.6634, 1.6618, 1.6502, 1.6461, 1.6455, 1.6445, 1.6354, 1.6335, 1.6299, 1.6298, 1.6287, 1.6277, 1.6118, 1.6063, 1.6063, 1.596, 1.5954, 1.5938, 1.4394, 1.4405, 0.8302, -0.1225, 1.8072, 1.7862, 1.7692, 1.7557, 1.7551, 1.7483, 1.7475, 1.7412, 1.7409, 1.7396, 1.7377, 1.7344, 1.7341, 1.7329, 1.7286, 1.7275, 1.7215, 1.7214, 1.7079, 1.7044, 1.7002, 1.6962, 1.6915, 1.6726, 1.6682, 1.6648, 1.6616, 1.6549, 1.6533, 1.6483, 1.6482, 1.5113, 1.179, 0.9411, -0.3658, 1.4112, 0.1465, 0.2902, 0.2954, 0.3018]}, \"token.table\": {\"Topic\": [3, 4, 1, 5, 2, 1, 1, 3, 5, 3, 1, 2, 5, 1, 3, 4, 2, 3, 1, 3, 4, 1, 3, 1, 4, 1, 5, 3, 5, 5, 1, 2, 3, 4, 5, 1, 2, 5, 5, 1, 3, 4, 1, 4, 4, 1, 1, 2, 3, 4, 5, 4, 1, 3, 5, 1, 2, 2, 3, 1, 2, 3, 3, 4, 2, 2, 2, 4, 5, 5, 4, 1, 3, 2, 4, 1, 5, 4, 2, 3, 1, 2, 5, 1, 3, 2, 2, 4, 2, 1, 3, 1, 5, 2, 5, 3, 3, 4, 1, 2, 4, 2, 5, 3, 5, 1, 2, 1, 2, 1, 2, 3, 4, 5, 4, 5, 1, 4, 5, 1, 2, 2, 1, 2, 4, 1, 3, 1, 2, 1, 5, 5, 4, 5, 2, 4, 3, 4, 2, 5, 2, 5, 3, 3, 3, 1, 4, 4, 2, 3, 3, 3, 5, 2, 2, 5, 5, 4, 5, 1, 4, 5, 5, 3, 3, 4, 5, 1, 5, 1, 3, 1, 3, 5, 5, 2, 2, 3, 2, 5, 2, 5, 2, 2, 5, 1, 2, 1, 2, 5, 3, 2, 3, 4, 2, 1, 3, 5, 5, 1, 3, 2, 3, 1, 2, 1, 4, 4, 1, 2, 2, 3, 5, 1, 4, 1, 2, 3, 1, 1, 3, 4, 1, 1, 2, 1, 1, 1, 4, 3, 5, 1, 3, 2, 5, 3, 3, 3, 4], \"Freq\": [0.9779068749463691, 0.8852226662022202, 0.8399619764165619, 0.8207506466217586, 0.9061321668834378, 0.869180801829537, 0.33223995835092557, 0.41529994793865693, 0.24917996876319418, 0.9060908473176947, 0.9695659673001422, 0.8946291633650466, 0.769168533536911, 0.9016347435379105, 0.7834966690100231, 0.11192809557286044, 0.8108981110221534, 0.10136226387776917, 0.9605925971046606, 0.9772340472019779, 0.9567167059304059, 0.15359380036119846, 0.7679690018059923, 0.9139955725779829, 0.8772785909716745, 0.9811638448803099, 0.8500020915701225, 0.8782098258028922, 0.817725703678178, 0.898915820677379, 0.36688046783300793, 0.17794801134415353, 0.19991690163355522, 0.1471915649389912, 0.1076475624180682, 0.48564711772570834, 0.30904816582545075, 0.1986738208877898, 0.65682865288883, 0.4811429312014541, 0.34367352228675296, 0.1374694089147012, 0.929414380849527, 0.8124549522976874, 0.9161817149519781, 0.9640021213973213, 0.24854796603720752, 0.24854796603720752, 0.07101370458205929, 0.39057537520132607, 0.05326027843654447, 0.983364788685292, 0.26533885622267767, 0.7075702832604738, 0.7471811021067968, 0.9618629940356445, 0.8782242716444665, 0.9665894085994371, 0.9802582268046957, 0.5704597604057011, 0.07130747005071264, 0.3565373502535632, 0.9176431121153182, 0.8837941304020078, 0.984334214469451, 0.9836407809555151, 0.9129965461745598, 0.8893552451132093, 0.82331032190551, 0.8864569901635352, 0.80055455205846, 0.8875341622455594, 0.05547088514034746, 0.863732708051174, 0.8499213521159465, 0.749418627714927, 0.18735465692873174, 0.8389263524921592, 0.9534342839315696, 0.8322006590514063, 0.6899254053137133, 0.11715714429855509, 0.18224444668664125, 0.2788802083082457, 0.6274804686935529, 0.984957640200471, 0.9743896776687223, 0.8498290776845631, 0.994835662083564, 0.6129482694451305, 0.3677689616670783, 0.32528580242846916, 0.6505716048569383, 0.8951962897898496, 0.8109630453938977, 0.9852616640612906, 0.8322006590514063, 0.9440872405004618, 0.9789170274220033, 0.8606125226392829, 0.1434354204398805, 0.8662496130464029, 0.8614545248808239, 0.9237537563164132, 0.9538720573588414, 0.1440044147897759, 0.8640264887386554, 0.5311903877317511, 0.4131480793469175, 0.50496470711856, 0.201985882847424, 0.302978824271136, 0.745791523790679, 0.9338946127525234, 0.91518593461063, 0.8491302549829204, 0.9350929071763647, 0.9132093882785443, 0.8309519356888796, 0.942016827849999, 0.9820719269086892, 0.7447940908889045, 0.2818414817479564, 0.7202615644669997, 0.9122119834376414, 0.8291661076582495, 0.1507574741196817, 0.7060131206119016, 0.29607001832112, 0.47904033746018215, 0.518960365581864, 0.8657829521488568, 0.9352237031029945, 0.8092670019278136, 0.8973050634676959, 0.9382539557925859, 0.8322006590514063, 0.8124549522976874, 0.9164594751699627, 0.9329829484923865, 0.7069366593988533, 0.30297285402808, 0.9634158178164667, 0.9735939426760151, 0.8274522122348222, 0.9516632700516628, 0.9885359460478457, 0.7566452910517631, 0.41100458240071414, 0.5137557280008926, 0.9422323927050616, 0.15805324743959268, 0.7902662371979633, 0.9139175375166666, 0.2796240964153308, 0.699060241038327, 0.9697026613481092, 0.8824095676283658, 0.7712136800482401, 0.9046743541426459, 0.832651144766503, 0.9017302274417084, 0.9688016081517637, 0.8322006590514063, 0.8477076612518858, 0.6568328013284856, 0.1642082003321214, 0.9260416349079145, 0.9163704283282547, 0.9541948211756824, 0.8744631118491346, 0.9272686712298702, 0.8568130614743857, 0.12240186592491224, 0.7650987130640314, 0.8995282607402038, 0.920777347475376, 0.7773265304600775, 0.8148484499909233, 0.853529484836189, 0.589628322956234, 0.39308554863748935, 0.9353795943047134, 0.7735206749871835, 0.19338016874679587, 0.29358515156184467, 0.6920221429672053, 0.8257157278025503, 0.13211451644840805, 0.9284180238419523, 0.9845409269997577, 0.5669859270668275, 0.4049899479048768, 0.8112994317365397, 0.77961737190791, 0.9245376988575358, 0.9434977172613078, 0.8952644456805139, 0.9808693330697654, 0.9891198664775804, 0.9760150651695586, 0.7695294836096497, 0.9414066097306197, 0.7328531238389762, 0.18321328095974404, 0.9314678578998149, 0.9377359977669286, 0.9514738214109936, 0.929627864044341, 0.8523831263824099, 0.9435387107476253, 0.755126809487296, 0.16780595766384357, 0.963090516071031, 0.9487554916805216, 0.9845556692347824, 0.7695718609724491, 0.9653116077253371, 0.8848641237145992, 0.7779093287614619, 0.17286873972476932, 0.9118311111988663, 0.8414972933810826, 0.8605338327633071, 0.07823034843302792, 0.9017539479793272, 0.935361138311082, 0.24697783845610566, 0.740933515368317, 0.9640584744929658, 0.9637156360100093, 0.9665195352395184, 0.9550554704517575, 0.9345665536243811, 0.8549169755000446, 0.9247622498082128, 0.9596594540030395, 0.8698130486642939, 0.8839368677029478], \"Term\": [\"abuse\", \"affect\", \"alex\", \"also\", \"always\", \"amazing\", \"anti\", \"anti\", \"anti\", \"ask\", \"ass\", \"attack\", \"aug\", \"back\", \"bad\", \"bad\", \"be\", \"be\", \"beat\", \"beatdown\", \"bedroom\", \"bitch\", \"bitch\", \"book\", \"boy\", \"brain\", \"bring\", \"brother\", \"bull\", \"bullet\", \"bully\", \"bully\", \"bully\", \"bully\", \"bully\", \"bullying\", \"bullying\", \"bullying\", \"burn\", \"call\", \"call\", \"call\", \"cause\", \"cd\", \"check\", \"child\", \"co\", \"co\", \"co\", \"co\", \"co\", \"com\", \"come\", \"come\", \"cute\", \"cyber\", \"dad\", \"day\", \"dnt\", \"do\", \"do\", \"do\", \"dog\", \"drug\", \"dude\", \"ect\", \"even\", \"face\", \"facebook\", \"fan\", \"fb\", \"feel\", \"feel\", \"form\", \"friday\", \"friend\", \"friend\", \"fuck\", \"fun\", \"gang\", \"get\", \"get\", \"get\", \"girl\", \"girl\", \"give\", \"giveashit\", \"glad\", \"go\", \"good\", \"good\", \"great\", \"great\", \"hahaha\", \"happen\", \"hate\", \"hbhliveapparel\", \"head\", \"health\", \"high\", \"high\", \"hope\", \"hurt\", \"job\", \"join\", \"kick\", \"kick\", \"kid\", \"kid\", \"know\", \"know\", \"know\", \"lady\", \"lately\", \"law\", \"let\", \"life\", \"like\", \"listen\", \"little\", \"live\", \"lmao\", \"lol\", \"lol\", \"look\", \"love\", \"love\", \"m\", \"m\", \"make\", \"make\", \"man\", \"mean\", \"medical\", \"mess\", \"message\", \"messg\", \"mix\", \"mom\", \"monster\", \"much\", \"much\", \"name\", \"need\", \"neighborhood\", \"never\", \"new\", \"news\", \"nice\", \"nice\", \"old\", \"other\", \"other\", \"park\", \"people\", \"people\", \"perfect\", \"person\", \"pick\", \"play\", \"playground\", \"point\", \"police\", \"positive\", \"post\", \"power\", \"power\", \"problem\", \"radio\", \"re\", \"read\", \"real\", \"really\", \"really\", \"reason\", \"rebecca_black\", \"remember\", \"reporter\", \"right\", \"rude\", \"s\", \"s\", \"sad\", \"say\", \"say\", \"school\", \"school\", \"see\", \"see\", \"self\", \"send\", \"shit\", \"shit\", \"shut\", \"sick\", \"sign\", \"small\", \"son\", \"stand\", \"stop\", \"stuff\", \"suck\", \"sure\", \"take\", \"take\", \"talk\", \"tall\", \"teen\", \"tell\", \"th_grade\", \"thank\", \"thing\", \"thing\", \"think\", \"time\", \"today\", \"tonight\", \"try\", \"tweet\", \"twitter\", \"twitter\", \"type\", \"ugly\", \"use\", \"use\", \"ve\", \"victim\", \"video\", \"video\", \"wanna\", \"want\", \"watch\", \"well\", \"wit\", \"world\", \"wrong\", \"www\", \"year\", \"yfrog\"]}, \"R\": 30, \"lambda.step\": 0.01, \"plot.opts\": {\"xlab\": \"PC1\", \"ylab\": \"PC2\"}, \"topic.order\": [3, 4, 2, 1, 5]};\n",
       "\n",
       "function LDAvis_load_lib(url, callback){\n",
       "  var s = document.createElement('script');\n",
       "  s.src = url;\n",
       "  s.async = true;\n",
       "  s.onreadystatechange = s.onload = callback;\n",
       "  s.onerror = function(){console.warn(\"failed to load library \" + url);};\n",
       "  document.getElementsByTagName(\"head\")[0].appendChild(s);\n",
       "}\n",
       "\n",
       "if(typeof(LDAvis) !== \"undefined\"){\n",
       "   // already loaded: just create the visualization\n",
       "   !function(LDAvis){\n",
       "       new LDAvis(\"#\" + \"ldavis_el2022419547259360089224244933\", ldavis_el2022419547259360089224244933_data);\n",
       "   }(LDAvis);\n",
       "}else if(typeof define === \"function\" && define.amd){\n",
       "   // require.js is available: use it to load d3/LDAvis\n",
       "   require.config({paths: {d3: \"https://d3js.org/d3.v5\"}});\n",
       "   require([\"d3\"], function(d3){\n",
       "      window.d3 = d3;\n",
       "      LDAvis_load_lib(\"https://cdn.jsdelivr.net/gh/bmabey/pyLDAvis@3.2.2/pyLDAvis/js/ldavis.v3.0.0.js\", function(){\n",
       "        new LDAvis(\"#\" + \"ldavis_el2022419547259360089224244933\", ldavis_el2022419547259360089224244933_data);\n",
       "      });\n",
       "    });\n",
       "}else{\n",
       "    // require.js not available: dynamically load d3 & LDAvis\n",
       "    LDAvis_load_lib(\"https://d3js.org/d3.v5.js\", function(){\n",
       "         LDAvis_load_lib(\"https://cdn.jsdelivr.net/gh/bmabey/pyLDAvis@3.2.2/pyLDAvis/js/ldavis.v3.0.0.js\", function(){\n",
       "                 new LDAvis(\"#\" + \"ldavis_el2022419547259360089224244933\", ldavis_el2022419547259360089224244933_data);\n",
       "            })\n",
       "         });\n",
       "}\n",
       "</script>"
      ],
      "text/plain": [
       "PreparedData(topic_coordinates=              x         y  topics  cluster       Freq\n",
       "topic                                                \n",
       "2      0.169378  0.048768       1        1  28.031623\n",
       "3      0.065853 -0.094296       2        1  21.875618\n",
       "1     -0.043291  0.165771       3        1  17.786706\n",
       "0     -0.149887 -0.000644       4        1  16.753128\n",
       "4     -0.042053 -0.119598       5        1  15.552925, topic_info=         Term       Freq      Total Category  logprob  loglift\n",
       "183    people  42.000000  42.000000  Default  30.0000  30.0000\n",
       "132    school  47.000000  47.000000  Default  29.0000  29.0000\n",
       "128        go  28.000000  28.000000  Default  28.0000  28.0000\n",
       "2        stop  34.000000  34.000000  Default  27.0000  27.0000\n",
       "107       get  76.000000  76.000000  Default  26.0000  26.0000\n",
       "..        ...        ...        ...      ...      ...      ...\n",
       "4       great   3.921353   6.148439   Topic5  -5.3937   1.4112\n",
       "107       get  13.832368  76.819899   Topic5  -4.1331   0.1465\n",
       "32   bullying   9.418107  45.300382   Topic5  -4.5175   0.2902\n",
       "17        say   4.322556  20.684644   Topic5  -5.2962   0.2954\n",
       "14     friend   3.367579  16.012412   Topic5  -5.5459   0.3018\n",
       "\n",
       "[239 rows x 6 columns], token_table=      Topic      Freq    Term\n",
       "term                         \n",
       "248       3  0.977907   abuse\n",
       "1597      4  0.885223  affect\n",
       "676       1  0.839962    alex\n",
       "507       5  0.820751    also\n",
       "188       2  0.906132  always\n",
       "...     ...       ...     ...\n",
       "379       5  0.854917   world\n",
       "202       3  0.924762   wrong\n",
       "932       3  0.959659     www\n",
       "670       3  0.869813    year\n",
       "1699      4  0.883937   yfrog\n",
       "\n",
       "[239 rows x 3 columns], R=30, lambda_step=0.01, plot_opts={'xlab': 'PC1', 'ylab': 'PC2'}, topic_order=[3, 4, 2, 1, 5])"
      ]
     },
     "execution_count": 21,
     "metadata": {},
     "output_type": "execute_result"
    }
   ],
   "source": [
    "# Visualize the topics\n",
    "pyLDAvis.enable_notebook()\n",
    "vis = pyLDAvis.gensim.prepare(lda_model, corpus, id2word)\n",
    "vis"
   ]
  },
  {
   "cell_type": "code",
   "execution_count": 22,
   "id": "4f8d30df",
   "metadata": {
    "scrolled": true
   },
   "outputs": [
    {
     "name": "stderr",
     "output_type": "stream",
     "text": [
      "C:\\Users\\erajkovic\\Anaconda3\\envs\\tensorflow_env\\lib\\site-packages\\smart_open\\smart_open_lib.py:252: UserWarning: This function is deprecated, use smart_open.open instead. See the migration notes for details: https://github.com/RaRe-Technologies/smart_open/blob/master/README.rst#migrating-to-the-new-open-function\n",
      "  'See the migration notes for details: %s' % _MIGRATION_NOTES_URL\n"
     ]
    }
   ],
   "source": [
    "# Download File: http://mallet.cs.umass.edu/dist/mallet-2.0.8.zip\n",
    "os.environ['MALLET_HOME'] = 'C:/Users/erajkovic/Downloads/mallet-2.0.8/mallet-2.0.8'\n",
    "mallet_path = \"C:/Users/erajkovic/Downloads/mallet-2.0.8/mallet-2.0.8/bin/mallet\" # update this path\n",
    "ldamallet = gensim.models.wrappers.LdaMallet(mallet_path, corpus=corpus, num_topics=6, id2word=id2word)"
   ]
  },
  {
   "cell_type": "code",
   "execution_count": 24,
   "id": "df1d521d",
   "metadata": {},
   "outputs": [
    {
     "name": "stdout",
     "output_type": "stream",
     "text": [
      "[(0,\n",
      "  [('bully', 0.09251700680272108),\n",
      "   ('people', 0.05986394557823129),\n",
      "   ('video', 0.02585034013605442),\n",
      "   ('call', 0.02585034013605442),\n",
      "   ('cyber', 0.02312925170068027),\n",
      "   ('time', 0.021768707482993196),\n",
      "   ('bad', 0.014965986394557823),\n",
      "   ('ass', 0.014965986394557823),\n",
      "   ('mom', 0.013605442176870748),\n",
      "   ('put', 0.012244897959183673)]),\n",
      " (1,\n",
      "  [('bullying', 0.08677685950413223),\n",
      "   ('lol', 0.05922865013774105),\n",
      "   ('shit', 0.02203856749311295),\n",
      "   ('give', 0.02066115702479339),\n",
      "   ('nice', 0.01652892561983471),\n",
      "   ('back', 0.01652892561983471),\n",
      "   ('man', 0.015151515151515152),\n",
      "   ('attack', 0.015151515151515152),\n",
      "   ('bring', 0.011019283746556474),\n",
      "   ('end', 0.009641873278236915)]),\n",
      " (2,\n",
      "  [('bully', 0.13601036269430053),\n",
      "   ('school', 0.06994818652849741),\n",
      "   ('kid', 0.025906735751295335),\n",
      "   ('hate', 0.023316062176165803),\n",
      "   ('girl', 0.02072538860103627),\n",
      "   ('fight', 0.015544041450777202),\n",
      "   ('day', 0.015544041450777202),\n",
      "   ('student', 0.014248704663212436),\n",
      "   ('rebecca_black', 0.012953367875647668),\n",
      "   ('bedroom', 0.011658031088082901)]),\n",
      " (3,\n",
      "  [('bully', 0.17082785808147175),\n",
      "   ('make', 0.0328515111695138),\n",
      "   ('love', 0.024967148488830485),\n",
      "   ('friend', 0.018396846254927726),\n",
      "   ('watch', 0.018396846254927726),\n",
      "   ('life', 0.01576872536136662),\n",
      "   ('word', 0.01576872536136662),\n",
      "   ('read', 0.01445466491458607),\n",
      "   ('beatdown', 0.013140604467805518),\n",
      "   ('victim', 0.013140604467805518)]),\n",
      " (4,\n",
      "  [('bully', 0.3010610079575597),\n",
      "   ('big', 0.023872679045092837),\n",
      "   ('twitter', 0.022546419098143235),\n",
      "   ('talk', 0.01856763925729443),\n",
      "   ('stand', 0.015915119363395226),\n",
      "   ('bitch', 0.014588859416445624),\n",
      "   ('great', 0.011936339522546418),\n",
      "   ('wanna', 0.009283819628647215),\n",
      "   ('problem', 0.007957559681697613),\n",
      "   ('news', 0.007957559681697613)]),\n",
      " (5,\n",
      "  [('bully', 0.12663185378590078),\n",
      "   ('stop', 0.050913838120104436),\n",
      "   ('child', 0.020887728459530026),\n",
      "   ('anti', 0.020887728459530026),\n",
      "   ('good', 0.020887728459530026),\n",
      "   ('feel', 0.0195822454308094),\n",
      "   ('ve', 0.014360313315926894),\n",
      "   ('boy', 0.013054830287206266),\n",
      "   ('fuck', 0.010443864229765013),\n",
      "   ('abuse', 0.010443864229765013)])]\n",
      "\n",
      "Coherence Score:  0.6357525770025166\n"
     ]
    }
   ],
   "source": [
    "# Show Topics\n",
    "pprint(ldamallet.show_topics(formatted=False))\n",
    "\n",
    "# Compute Coherence Score\n",
    "coherence_model_ldamallet = CoherenceModel(model=ldamallet, texts=data_lemmatized, dictionary=id2word, coherence='c_v')\n",
    "coherence_ldamallet = coherence_model_ldamallet.get_coherence()\n",
    "print('\\nCoherence Score: ', coherence_ldamallet)"
   ]
  },
  {
   "cell_type": "code",
   "execution_count": 25,
   "id": "cfc1d706",
   "metadata": {},
   "outputs": [],
   "source": [
    "def compute_coherence_values(dictionary, corpus, texts, limit, start=2, step=3):\n",
    "    \"\"\"\n",
    "    Compute c_v coherence for various number of topics\n",
    "\n",
    "    Parameters:\n",
    "    ----------\n",
    "    dictionary : Gensim dictionary\n",
    "    corpus : Gensim corpus\n",
    "    texts : List of input texts\n",
    "    limit : Max num of topics\n",
    "\n",
    "    Returns:\n",
    "    -------\n",
    "    model_list : List of LDA topic models\n",
    "    coherence_values : Coherence values corresponding to the LDA model with respective number of topics\n",
    "    \"\"\"\n",
    "    coherence_values = []\n",
    "    model_list = []\n",
    "    for num_topics in range(start, limit, step):\n",
    "        model = gensim.models.wrappers.LdaMallet(mallet_path, corpus=corpus, num_topics=num_topics, id2word=id2word)\n",
    "        model_list.append(model)\n",
    "        coherencemodel = CoherenceModel(model=model, texts=texts, dictionary=dictionary, coherence='c_v')\n",
    "        coherence_values.append(coherencemodel.get_coherence())\n",
    "\n",
    "    return model_list, coherence_values"
   ]
  },
  {
   "cell_type": "code",
   "execution_count": 33,
   "id": "281ab992",
   "metadata": {},
   "outputs": [
    {
     "name": "stderr",
     "output_type": "stream",
     "text": [
      "C:\\Users\\erajkovic\\Anaconda3\\envs\\tensorflow_env\\lib\\site-packages\\smart_open\\smart_open_lib.py:252: UserWarning: This function is deprecated, use smart_open.open instead. See the migration notes for details: https://github.com/RaRe-Technologies/smart_open/blob/master/README.rst#migrating-to-the-new-open-function\n",
      "  'See the migration notes for details: %s' % _MIGRATION_NOTES_URL\n"
     ]
    }
   ],
   "source": [
    "\n",
    "model_list, coherence_values = compute_coherence_values(dictionary=id2word, corpus=corpus, texts=data_lemmatized, start=2, limit=24, step=3)"
   ]
  },
  {
   "cell_type": "code",
   "execution_count": 35,
   "id": "b8f10c46",
   "metadata": {},
   "outputs": [
    {
     "data": {
      "image/png": "[encoded data removed]",
      "text/plain": [
       "<Figure size 432x288 with 1 Axes>"
      ]
     },
     "metadata": {
      "needs_background": "light"
     },
     "output_type": "display_data"
    }
   ],
   "source": [
    "# Show graph\n",
    "limit=24; start=2; step=3;\n",
    "x = range(start, limit, step)\n",
    "plt.plot(x, coherence_values)\n",
    "plt.xlabel(\"Num Topics\")\n",
    "plt.ylabel(\"Coherence score\")\n",
    "plt.legend((\"coherence_values\"), loc='best')\n",
    "plt.show()"
   ]
  },
  {
   "cell_type": "code",
   "execution_count": 36,
   "id": "bb415114",
   "metadata": {},
   "outputs": [
    {
     "name": "stdout",
     "output_type": "stream",
     "text": [
      "Num Topics = 2  has Coherence Value of 0.4769\n",
      "Num Topics = 5  has Coherence Value of 0.6318\n",
      "Num Topics = 8  has Coherence Value of 0.6707\n",
      "Num Topics = 11  has Coherence Value of 0.6865\n",
      "Num Topics = 14  has Coherence Value of 0.6962\n",
      "Num Topics = 17  has Coherence Value of 0.7088\n",
      "Num Topics = 20  has Coherence Value of 0.7026\n",
      "Num Topics = 23  has Coherence Value of 0.7215\n"
     ]
    }
   ],
   "source": [
    "# Print the coherence scores\n",
    "for m, cv in zip(x, coherence_values):\n",
    "    print(\"Num Topics =\", m, \" has Coherence Value of\", round(cv, 4))"
   ]
  },
  {
   "cell_type": "code",
   "execution_count": null,
   "id": "bc16afa4",
   "metadata": {},
   "outputs": [],
   "source": []
  }
 ],
 "metadata": {
  "kernelspec": {
   "display_name": "Python 3",
   "language": "python",
   "name": "python3"
  },
  "language_info": {
   "codemirror_mode": {
    "name": "ipython",
    "version": 3
   },
   "file_extension": ".py",
   "mimetype": "text/x-python",
   "name": "python",
   "nbconvert_exporter": "python",
   "pygments_lexer": "ipython3",
   "version": "3.6.13"
  }
 },
 "nbformat": 4,
 "nbformat_minor": 5
}
